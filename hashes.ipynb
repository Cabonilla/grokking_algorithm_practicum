{
 "cells": [
  {
   "cell_type": "code",
   "execution_count": 3,
   "id": "61866354-994b-4eef-9367-601b7e541e42",
   "metadata": {},
   "outputs": [],
   "source": [
    "voted = {}\n",
    "\n",
    "def check_voter(name):\n",
    "    if voted.get(name):\n",
    "        print(\"gtfo\")\n",
    "    else:\n",
    "        voted[name] = True\n",
    "        print(\"cmon in\")"
   ]
  },
  {
   "cell_type": "code",
   "execution_count": 4,
   "id": "6505af7a-7784-47b9-b779-8b357756682d",
   "metadata": {},
   "outputs": [
    {
     "name": "stdout",
     "output_type": "stream",
     "text": [
      "cmon in\n"
     ]
    }
   ],
   "source": [
    "check_voter(\"maru\")"
   ]
  },
  {
   "cell_type": "code",
   "execution_count": 5,
   "id": "1b9ccde0-43b9-498c-b5b8-e9cf7fd2d258",
   "metadata": {},
   "outputs": [
    {
     "name": "stdout",
     "output_type": "stream",
     "text": [
      "cmon in\n"
     ]
    }
   ],
   "source": [
    "check_voter(\"sarah\")"
   ]
  },
  {
   "cell_type": "code",
   "execution_count": 6,
   "id": "f4d2356a-f6bb-403f-be96-8bc02cb80216",
   "metadata": {},
   "outputs": [
    {
     "name": "stdout",
     "output_type": "stream",
     "text": [
      "gtfo\n"
     ]
    }
   ],
   "source": [
    "check_voter(\"maru\")"
   ]
  },
  {
   "cell_type": "code",
   "execution_count": 8,
   "id": "e8638f47-67c3-42c5-9fdf-b4beaa895869",
   "metadata": {},
   "outputs": [],
   "source": [
    "inputone = {}\n",
    "\n",
    "def do_one(num):\n",
    "    inputone[num] = 1\n",
    "    print(\"put one\")"
   ]
  },
  {
   "cell_type": "code",
   "execution_count": 9,
   "id": "5e0b479f-9dd6-42ba-9957-a01dbc1085f1",
   "metadata": {},
   "outputs": [
    {
     "name": "stdout",
     "output_type": "stream",
     "text": [
      "put one\n"
     ]
    }
   ],
   "source": [
    "do_one(\"hellolaverne\")"
   ]
  },
  {
   "cell_type": "code",
   "execution_count": 10,
   "id": "9d546efa-ba17-49ba-907a-70aff12f4021",
   "metadata": {},
   "outputs": [
    {
     "data": {
      "text/plain": [
       "{'hellolaverne': 1}"
      ]
     },
     "execution_count": 10,
     "metadata": {},
     "output_type": "execute_result"
    }
   ],
   "source": [
    "inputone"
   ]
  },
  {
   "cell_type": "code",
   "execution_count": 25,
   "id": "c312f45e-67c6-4e6c-b15c-748faee28e8d",
   "metadata": {},
   "outputs": [],
   "source": [
    "inputlen = {}\n",
    "\n",
    "def do_len(string):\n",
    "    inputlen[len(string)] = string\n",
    "    print(\"your len is \" + str(len(string)))"
   ]
  },
  {
   "cell_type": "code",
   "execution_count": 26,
   "id": "8227ea77-02b5-4c27-9cb6-31e67541b177",
   "metadata": {},
   "outputs": [
    {
     "name": "stdout",
     "output_type": "stream",
     "text": [
      "your len is 7\n"
     ]
    }
   ],
   "source": [
    "do_len(\"laverne\")"
   ]
  },
  {
   "cell_type": "code",
   "execution_count": 27,
   "id": "ebab580d-4a74-4bbd-bded-fab62d6dd8f4",
   "metadata": {},
   "outputs": [
    {
     "data": {
      "text/plain": [
       "{7: 'laverne'}"
      ]
     },
     "execution_count": 27,
     "metadata": {},
     "output_type": "execute_result"
    }
   ],
   "source": [
    "inputlen"
   ]
  },
  {
   "cell_type": "code",
   "execution_count": 24,
   "id": "1a97cdf6-ec31-4d00-8c1c-d521af6e59af",
   "metadata": {},
   "outputs": [],
   "source": [
    "inputindex = {}\n",
    "\n",
    "def do_index(letter):\n",
    "    inputindex[letter[0]] = True\n",
    "    print(\"first letter is\" + str(letter[0]))"
   ]
  },
  {
   "cell_type": "code",
   "execution_count": null,
   "id": "e5cd77b0-1749-4363-80ec-890dcd77e9cb",
   "metadata": {},
   "outputs": [],
   "source": [
    "do_index(\"laverne\")"
   ]
  }
 ],
 "metadata": {
  "kernelspec": {
   "display_name": "Python 3",
   "language": "python",
   "name": "python3"
  },
  "language_info": {
   "codemirror_mode": {
    "name": "ipython",
    "version": 3
   },
   "file_extension": ".py",
   "mimetype": "text/x-python",
   "name": "python",
   "nbconvert_exporter": "python",
   "pygments_lexer": "ipython3",
   "version": "3.9.5"
  }
 },
 "nbformat": 4,
 "nbformat_minor": 5
}
