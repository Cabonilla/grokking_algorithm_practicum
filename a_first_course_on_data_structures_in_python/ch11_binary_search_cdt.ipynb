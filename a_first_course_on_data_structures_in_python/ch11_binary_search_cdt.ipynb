{
 "cells": [
  {
   "cell_type": "code",
   "execution_count": 1,
   "id": "09a6347b-420e-4fde-914b-46f31d9d771b",
   "metadata": {},
   "outputs": [],
   "source": [
    "def bs(L, item):\n",
    "    if len(L)==0: return False\n",
    "    median = len(L) // 2\n",
    "    if item == median:\n",
    "        return True\n",
    "    elif item < L[median]:\n",
    "        return bs(L[:median], item)\n",
    "    else:\n",
    "        return bs(L[median + 1:], item)\n",
    "    "
   ]
  },
  {
   "cell_type": "code",
   "execution_count": 4,
   "id": "efc038f9-e15f-4474-b1bb-a915b0394a5a",
   "metadata": {},
   "outputs": [
    {
     "name": "stdout",
     "output_type": "stream",
     "text": [
      "[4, 5]\n"
     ]
    }
   ],
   "source": [
    "arr = [1, 2, 3, 4, 5]\n",
    "split_arr = arr[3:]\n",
    "print(split_arr)"
   ]
  },
  {
   "cell_type": "code",
   "execution_count": 5,
   "id": "54563c4b-7164-49fe-8510-e123ba06e106",
   "metadata": {},
   "outputs": [],
   "source": [
    "def bs(L, item, left=0, right=None):\n",
    "    if right is None: right = len(L)\n",
    "    if right-left==0: return False\n",
    "    if right-left==1: return L[left]==item\n",
    "    median = (right + left) // 2\n",
    "    if median < L[median]:\n",
    "        return bs(L, item, left, median)\n",
    "    else:\n",
    "        return bs(L, item, median, right)\n",
    "        "
   ]
  },
  {
   "cell_type": "code",
   "execution_count": 18,
   "id": "54d6af24-bb58-44c7-8347-5da94c6a8155",
   "metadata": {},
   "outputs": [],
   "source": [
    "#flip that tail recursion into a loop, flip it to a loop\n",
    "def bs(L, item):\n",
    "    left, right = 0, len(L)\n",
    "    while right - left > 1:\n",
    "        median = (right + left) // 2\n",
    "        if item < L[median]:\n",
    "            right = median\n",
    "        else:\n",
    "            left = median\n",
    "    print(median)\n",
    "    return right > left and L[left] == item\n",
    "\n",
    "def bs(L, item):\n",
    "    left, right = 0, len(L)\n",
    "    while left - right > 1:\n",
    "        median = (right + left) // 2\n",
    "        if item < L[median]:\n",
    "            right=median\n",
    "        else:\n",
    "            left=median\n",
    "    print(median)\n",
    "    "
   ]
  },
  {
   "cell_type": "code",
   "execution_count": 23,
   "id": "577810ec-ae96-4b6b-8636-2f7f57ff8c73",
   "metadata": {},
   "outputs": [
    {
     "name": "stdout",
     "output_type": "stream",
     "text": [
      "4\n"
     ]
    },
    {
     "data": {
      "text/plain": [
       "True"
      ]
     },
     "execution_count": 23,
     "metadata": {},
     "output_type": "execute_result"
    }
   ],
   "source": [
    "arr = [0, 1, 2, 3, 4, 5, 6, 7, 8, 9]\n",
    "target = 3\n",
    "\n",
    "bs(arr, target)"
   ]
  },
  {
   "cell_type": "code",
   "execution_count": 24,
   "id": "9442f9cd-432e-451b-85e2-7eb72b07d2bb",
   "metadata": {},
   "outputs": [
    {
     "name": "stdout",
     "output_type": "stream",
     "text": [
      "8\n"
     ]
    },
    {
     "data": {
      "text/plain": [
       "True"
      ]
     },
     "execution_count": 24,
     "metadata": {},
     "output_type": "execute_result"
    }
   ],
   "source": [
    "bs(arr, 7)"
   ]
  },
  {
   "cell_type": "code",
   "execution_count": null,
   "id": "00c3d2de-7b2f-4388-88f1-808bad357893",
   "metadata": {},
   "outputs": [],
   "source": []
  }
 ],
 "metadata": {
  "kernelspec": {
   "display_name": "Python 3",
   "language": "python",
   "name": "python3"
  },
  "language_info": {
   "codemirror_mode": {
    "name": "ipython",
    "version": 3
   },
   "file_extension": ".py",
   "mimetype": "text/x-python",
   "name": "python",
   "nbconvert_exporter": "python",
   "pygments_lexer": "ipython3",
   "version": "3.9.5"
  }
 },
 "nbformat": 4,
 "nbformat_minor": 5
}
