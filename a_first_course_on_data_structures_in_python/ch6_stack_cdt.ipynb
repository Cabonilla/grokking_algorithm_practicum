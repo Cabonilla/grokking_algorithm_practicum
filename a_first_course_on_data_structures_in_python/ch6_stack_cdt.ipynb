{
 "cells": [
  {
   "cell_type": "code",
   "execution_count": 1,
   "id": "efda66c4-a91d-4e1a-bf19-0f788d8cf6c3",
   "metadata": {},
   "outputs": [],
   "source": [
    "#The Stack ADT\n",
    "\n",
    "#push - tack to end \n",
    "#pop - removes last item\n",
    "#peek - look at end\n",
    "#size - from beginning to end\n",
    "#isempty - only beginning"
   ]
  },
  {
   "cell_type": "code",
   "execution_count": 2,
   "id": "4f49d39b-a02c-4996-a074-cea397d16f7a",
   "metadata": {},
   "outputs": [],
   "source": [
    "class ListStack:\n",
    "    def __init__(self):\n",
    "        self._L = []\n",
    "    \n",
    "    def push(self, item):\n",
    "        self._L.append(item)\n",
    "    \n",
    "    def pop(self):\n",
    "        return self._L.pop()\n",
    "        \n",
    "    def peek(self):\n",
    "        return self._L[-1]\n",
    "        \n",
    "    def __len__(self):\n",
    "        return len(self._L)\n",
    "    \n",
    "    def isempty(self):\n",
    "        return len(self) == 0"
   ]
  },
  {
   "cell_type": "code",
   "execution_count": null,
   "id": "c57e2e5a-1faf-4c9c-8449-6095fef0c45b",
   "metadata": {},
   "outputs": [],
   "source": []
  }
 ],
 "metadata": {
  "kernelspec": {
   "display_name": "Python 3",
   "language": "python",
   "name": "python3"
  },
  "language_info": {
   "codemirror_mode": {
    "name": "ipython",
    "version": 3
   },
   "file_extension": ".py",
   "mimetype": "text/x-python",
   "name": "python",
   "nbconvert_exporter": "python",
   "pygments_lexer": "ipython3",
   "version": "3.9.5"
  }
 },
 "nbformat": 4,
 "nbformat_minor": 5
}
