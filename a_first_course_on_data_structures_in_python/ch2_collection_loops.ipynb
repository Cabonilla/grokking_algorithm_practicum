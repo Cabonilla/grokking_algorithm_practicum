{
 "cells": [
  {
   "cell_type": "code",
   "execution_count": null,
   "id": "d20b0168-4a84-42ac-b0de-38617d9188eb",
   "metadata": {},
   "outputs": [],
   "source": [
    "mylist = [1, 2, 3]\n",
    "mytuple = (1,2,\"skip a few\", 100)\n",
    "myset = {'a', 'b', 'c'}\n",
    "mystring = \"abc\"\n",
    "mydict = {'a': 1, 'b': 2, 'c': 3}\n",
    "\n",
    "print(\"----mylist----\")\n",
    "for item in mylist:\n",
    "    print(item)\n",
    "\n",
    "print(\"----mytuple----\")\n",
    "for item in mytuple:\n",
    "    print(item)\n",
    "\n",
    "print(\"----myset----\")\n",
    "for element in myset:\n",
    "    print(element)\n",
    "\n",
    "print(\"----mycharacter----\")\n",
    "for character in mystring:\n",
    "    print(character)\n",
    "\n",
    "print(\"----mydict(key)----\")\n",
    "for key in mydict:\n",
    "    print(key)\n",
    "\n",
    "print(\"----mydict(key, value)----\")\n",
    "for key, value in mydict.items():\n",
    "    print(key, value)\n",
    "    \n",
    "print(\"---mydict(value)-----\")\n",
    "for value in mydict.values():\n",
    "    print(value)\n"
   ]
  }
 ],
 "metadata": {
  "kernelspec": {
   "display_name": "Python 3",
   "language": "python",
   "name": "python3"
  },
  "language_info": {
   "codemirror_mode": {
    "name": "ipython",
    "version": 3
   },
   "file_extension": ".py",
   "mimetype": "text/x-python",
   "name": "python",
   "nbconvert_exporter": "python",
   "pygments_lexer": "ipython3",
   "version": "3.9.5"
  }
 },
 "nbformat": 4,
 "nbformat_minor": 5
}
