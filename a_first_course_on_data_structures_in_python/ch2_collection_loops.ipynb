{
 "cells": [
  {
   "cell_type": "code",
   "execution_count": 2,
   "id": "d20b0168-4a84-42ac-b0de-38617d9188eb",
   "metadata": {},
   "outputs": [
    {
     "name": "stdout",
     "output_type": "stream",
     "text": [
      "----mylist----\n",
      "1\n",
      "2\n",
      "3\n",
      "----mytuple----\n",
      "1\n",
      "2\n",
      "skip a few\n",
      "100\n",
      "----myset----\n",
      "b\n",
      "c\n",
      "a\n",
      "----mycharacter----\n",
      "a\n",
      "b\n",
      "c\n",
      "----mydict(key)----\n",
      "a\n",
      "b\n",
      "c\n",
      "----mydict(key, value)----\n",
      "a 1\n",
      "b 2\n",
      "c 3\n",
      "---mydict(value)-----\n",
      "1\n",
      "2\n",
      "3\n"
     ]
    }
   ],
   "source": [
    "mylist = [1, 2, 3]\n",
    "mytuple = (1,2,\"skip a few\", 100)\n",
    "myset = {'a', 'b', 'c'}\n",
    "mystring = \"abc\"\n",
    "mydict = {'a': 1, 'b': 2, 'c': 3}\n",
    "\n",
    "print(\"----mylist----\")\n",
    "for item in mylist:\n",
    "    print(item)\n",
    "\n",
    "print(\"----mytuple----\")\n",
    "for item in mytuple:\n",
    "    print(item)\n",
    "\n",
    "print(\"----myset----\")\n",
    "for element in myset:\n",
    "    print(element)\n",
    "\n",
    "print(\"----mycharacter----\")\n",
    "for character in mystring:\n",
    "    print(character)\n",
    "\n",
    "print(\"----mydict(key)----\")\n",
    "for key in mydict:\n",
    "    print(key)\n",
    "\n",
    "print(\"----mydict(key, value)----\")\n",
    "for key, value in mydict.items():\n",
    "    print(key, value)\n",
    "    \n",
    "print(\"---mydict(value)-----\")\n",
    "for value in mydict.values():\n",
    "    print(value)"
   ]
  },
  {
   "cell_type": "code",
   "execution_count": 10,
   "id": "e0ec55eb-54bf-4549-9e30-cc76aec71b47",
   "metadata": {},
   "outputs": [
    {
     "name": "stdout",
     "output_type": "stream",
     "text": [
      "mytuple: (1, 2, 3, 4, 5) mylist: [1, 2, 3, 4, 5]\n"
     ]
    }
   ],
   "source": [
    "myTuple = (1, 2, 3, 4, 5)\n",
    "myList = [1,2,3,4,5]\n",
    "\n",
    "print(\"mytuple:\", myTuple, \"mylist:\", myList)"
   ]
  },
  {
   "cell_type": "code",
   "execution_count": 12,
   "id": "8315ec34-b933-4c88-8f6d-e382b736cf74",
   "metadata": {},
   "outputs": [
    {
     "name": "stdout",
     "output_type": "stream",
     "text": [
      "{0: 'Zero', 1: 'One', 2: 'Two', 3: 'Three', 'Pi': 'ThreePointOneFour'}\n"
     ]
    }
   ],
   "source": [
    "myDict = dict()\n",
    "myDict[0] = \"Zero\"\n",
    "myDict[1] = \"One\"\n",
    "myDict[2] = \"Two\"\n",
    "myDict[3] = \"Three\"\n",
    "myDict[\"Pi\"] = \"ThreePointOneFour\"\n",
    "print(myDict)"
   ]
  },
  {
   "cell_type": "code",
   "execution_count": 13,
   "id": "665c98b8-7787-42a3-a866-be0f59727865",
   "metadata": {},
   "outputs": [
    {
     "data": {
      "text/plain": [
       "'ThreePointOneFour'"
      ]
     },
     "execution_count": 13,
     "metadata": {},
     "output_type": "execute_result"
    }
   ],
   "source": [
    "myDict[\"Pi\"]"
   ]
  },
  {
   "cell_type": "code",
   "execution_count": 15,
   "id": "dc0d4385-80bc-4a70-90ac-b4b2f70cf95f",
   "metadata": {},
   "outputs": [
    {
     "name": "stdout",
     "output_type": "stream",
     "text": [
      "{1, 2, 3, 4, 5}\n"
     ]
    }
   ],
   "source": [
    "#Sets are key pairs, without the value. So, no multiple values per single key entry.\n",
    "mySet = {1, 2, 3, 4, 4, 5}\n",
    "print(mySet)"
   ]
  },
  {
   "cell_type": "code",
   "execution_count": 17,
   "id": "96af7236-eed9-4762-9cff-6102760fa4cb",
   "metadata": {},
   "outputs": [
    {
     "name": "stdout",
     "output_type": "stream",
     "text": [
      "16 4 3 3 5\n"
     ]
    }
   ],
   "source": [
    "astring = \"this is a string\"\n",
    "anarray = [\"this\", \"is\", \"an\", \"array\"]\n",
    "atuple = (1, 2, \"tuple\")\n",
    "adict = {0: \"a\", 1: \"b\", 2: \"c\"}\n",
    "aset = {1, 2, 3, 3, 3, 4, 4, 5}\n",
    "\n",
    "print(len(astring), len(anarray), len(atuple), len(adict), len(aset))"
   ]
  },
  {
   "cell_type": "code",
   "execution_count": 26,
   "id": "1befa2f6-ed0b-49c6-84f0-21d40a4d5f51",
   "metadata": {},
   "outputs": [
    {
     "name": "stdout",
     "output_type": "stream",
     "text": [
      "this + is a string\n"
     ]
    }
   ],
   "source": [
    "print(astring[:4], \"+\", astring[5:])"
   ]
  },
  {
   "cell_type": "code",
   "execution_count": 27,
   "id": "3f1da4cc-8031-4965-8d48-a0e929955891",
   "metadata": {},
   "outputs": [
    {
     "name": "stdout",
     "output_type": "stream",
     "text": [
      "Nuh uh uh.\n"
     ]
    }
   ],
   "source": [
    "x = \"a string\"\n",
    "try:\n",
    "    float(x)\n",
    "except ValueError:\n",
    "    print(\"Nuh uh uh.\")"
   ]
  },
  {
   "cell_type": "code",
   "execution_count": 29,
   "id": "26148b86-f0cb-44fd-b17f-410e8c20ae85",
   "metadata": {},
   "outputs": [
    {
     "name": "stdout",
     "output_type": "stream",
     "text": [
      "10\n"
     ]
    }
   ],
   "source": [
    "def foo(x, y):\n",
    "    return 8 * x + y\n",
    "\n",
    "print(foo(1, 2))"
   ]
  },
  {
   "cell_type": "code",
   "execution_count": 31,
   "id": "a0b3b83d-2b04-4e9f-9cd2-ae54fb31dba7",
   "metadata": {},
   "outputs": [
    {
     "name": "stdout",
     "output_type": "stream",
     "text": [
      "nananananananana batman!\n"
     ]
    }
   ],
   "source": [
    "print(foo(\"na\", \" batman!\"))"
   ]
  },
  {
   "cell_type": "code",
   "execution_count": null,
   "id": "c03e45c2-1bb9-4193-80b7-4547274a0636",
   "metadata": {},
   "outputs": [],
   "source": []
  }
 ],
 "metadata": {
  "kernelspec": {
   "display_name": "Python 3",
   "language": "python",
   "name": "python3"
  },
  "language_info": {
   "codemirror_mode": {
    "name": "ipython",
    "version": 3
   },
   "file_extension": ".py",
   "mimetype": "text/x-python",
   "name": "python",
   "nbconvert_exporter": "python",
   "pygments_lexer": "ipython3",
   "version": "3.9.5"
  }
 },
 "nbformat": 4,
 "nbformat_minor": 5
}
