{
 "cells": [
  {
   "cell_type": "code",
   "execution_count": 1,
   "id": "145f6a31-2fc1-47e0-ba9e-d7e2f8c9c5c8",
   "metadata": {},
   "outputs": [],
   "source": [
    "class Triangle:\n",
    "    def __init__(self, points):\n",
    "        self._sides = 3 \n",
    "        self._points = points\n",
    "        if self._points != 3:\n",
    "            raise ValueError(\"Wrong number of points.\")\n",
    "        \n",
    "    def sides(self):\n",
    "        return 3\n",
    "    \n",
    "    def __str__(self):\n",
    "        str(\"I am a triangle.\")\n",
    "    \n",
    "class Square:\n",
    "    def __init__(self, points):\n",
    "        self._sides = 4 \n",
    "        self._points = points\n",
    "        if self._points != 4:\n",
    "            raise ValueError(\"Wrong number of points.\")\n",
    "        \n",
    "    def sides(self):\n",
    "        return 4\n",
    "    \n",
    "    def __str__(self):\n",
    "        return str(\"I am a square.\")"
   ]
  },
  {
   "cell_type": "code",
   "execution_count": 3,
   "id": "d4dfd833-dc5c-4b7f-886c-f1e5ee5da548",
   "metadata": {},
   "outputs": [
    {
     "data": {
      "text/plain": [
       "<__main__.Triangle at 0x1a8598ebdf0>"
      ]
     },
     "execution_count": 3,
     "metadata": {},
     "output_type": "execute_result"
    }
   ],
   "source": [
    "Triangle(3)"
   ]
  },
  {
   "cell_type": "code",
   "execution_count": 4,
   "id": "45ecdef3-94e3-4491-b5bd-8fc4bf9da9d7",
   "metadata": {},
   "outputs": [],
   "source": [
    "class Triangle:\n",
    "    def __init__(self, points):\n",
    "        self._sides = 3 \n",
    "        self._points = list(points)\n",
    "        if len(self._points) != 3:\n",
    "            raise ValueError(\"Wrong number of points.\")\n",
    "        \n",
    "    def sides(self):\n",
    "        return 3\n",
    "    \n",
    "    def __str__(self):\n",
    "        \"I am a triangle.\"\n",
    "    \n",
    "class Square:\n",
    "    def __init__(self, points):\n",
    "        self._sides = 4 \n",
    "        self._points = list(points)\n",
    "        if len(self._points) != 4:\n",
    "            raise ValueError(\"Wrong number of points.\")\n",
    "        \n",
    "    def sides(self):\n",
    "        return 4\n",
    "    \n",
    "    def __str__(self):\n",
    "        return \"I am a square.\""
   ]
  },
  {
   "cell_type": "code",
   "execution_count": 5,
   "id": "8809535b-e118-4ea8-bd8f-96c618569f37",
   "metadata": {},
   "outputs": [
    {
     "data": {
      "text/plain": [
       "<__main__.Triangle at 0x1a8598bd9a0>"
      ]
     },
     "execution_count": 5,
     "metadata": {},
     "output_type": "execute_result"
    }
   ],
   "source": [
    "#Trying to recreate with original list[], not sure why can't return string.\n",
    "Triangle([1, 1, 1])"
   ]
  },
  {
   "cell_type": "code",
   "execution_count": 6,
   "id": "7c093f34-527e-4407-97b8-3d01969d4541",
   "metadata": {},
   "outputs": [],
   "source": [
    "class Polygon:\n",
    "    def __init__(self, sides, points):\n",
    "        self._sides = sides\n",
    "        self._points = points\n",
    "        if self._points != self._sides:\n",
    "            raise ValueError(\"Wrong number of points.\")\n",
    "        \n",
    "class Triangle(Polygon):\n",
    "    def __init__(self, points):\n",
    "        Polygon.__init__(self, 3, points)\n",
    "        \n",
    "    def __str__(self):\n",
    "        return \"I'm a triangle.\"\n",
    "    \n",
    "class Square(Polygon):\n",
    "    def __init__(self, points):\n",
    "        Polygon.__init__(self, 4, points)\n",
    "        \n",
    "    def __str__(self):\n",
    "        return \"I'm a square.\""
   ]
  },
  {
   "cell_type": "code",
   "execution_count": 8,
   "id": "9f5e7cec-b9ca-4877-b537-65168ce0a187",
   "metadata": {},
   "outputs": [
    {
     "data": {
      "text/plain": [
       "\"I'm a square.\""
      ]
     },
     "execution_count": 8,
     "metadata": {},
     "output_type": "execute_result"
    }
   ],
   "source": [
    "str(Square(4))\n",
    "#str(Triangle(4))\n",
    "\n",
    "#str(Square(3))\n",
    "#str(Triangle(3))"
   ]
  },
  {
   "cell_type": "code",
   "execution_count": 7,
   "id": "6fcb85ea-d2a2-4660-b5aa-795e06f681d0",
   "metadata": {},
   "outputs": [],
   "source": [
    "class PolygonCollection:\n",
    "    def __init__(self):\n",
    "        self._triangles = []\n",
    "        self._squares = []\n",
    "    \n",
    "    def add(self, polygon):\n",
    "        if polygon.sides() == 3:\n",
    "            self._triangles.append(polygon)\n",
    "        if polygon.sides() == 4:\n",
    "            self._squares.append(polygon)"
   ]
  },
  {
   "cell_type": "code",
   "execution_count": 9,
   "id": "b73e3703-90b0-4ef4-ba2d-06dce4af6aad",
   "metadata": {},
   "outputs": [],
   "source": [
    "#PolygonCollection.add(3)"
   ]
  }
 ],
 "metadata": {
  "kernelspec": {
   "display_name": "Python 3",
   "language": "python",
   "name": "python3"
  },
  "language_info": {
   "codemirror_mode": {
    "name": "ipython",
    "version": 3
   },
   "file_extension": ".py",
   "mimetype": "text/x-python",
   "name": "python",
   "nbconvert_exporter": "python",
   "pygments_lexer": "ipython3",
   "version": "3.9.5"
  }
 },
 "nbformat": 4,
 "nbformat_minor": 5
}
