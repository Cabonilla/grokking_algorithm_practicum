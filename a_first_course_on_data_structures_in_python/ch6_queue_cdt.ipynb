{
 "cells": [
  {
   "cell_type": "code",
   "execution_count": 1,
   "id": "d49727cc-2971-4d2e-aaad-55c4c9a730e0",
   "metadata": {},
   "outputs": [],
   "source": [
    "#The Queue ADT\n",
    "\n",
    "#enqueue - add item\n",
    "#dequeue - removes first, returns next item (FIFO)\n",
    "#peek - return the next item (FIFO)\n",
    "#len - number of items\n",
    "#isempty - true if no items"
   ]
  },
  {
   "cell_type": "code",
   "execution_count": 2,
   "id": "d0adc3f7-aca1-4a7b-9d2c-9cde7bcf8c41",
   "metadata": {},
   "outputs": [],
   "source": [
    "class ListQueueSimple: \n",
    "    def __init__(self):\n",
    "        self._L = []\n",
    "        \n",
    "    def enqueue(self, item):\n",
    "        self._L.append(item)\n",
    "        \n",
    "    def dequeue(self):\n",
    "        self._L.pop(0)\n",
    "        \n",
    "    def peek(self):\n",
    "        return self._L[0]\n",
    "    \n",
    "    def __len__(self):\n",
    "        return len(self._L)\n",
    "    \n",
    "    def isempty(self):\n",
    "        return len(self) == 0\n",
    "        "
   ]
  },
  {
   "cell_type": "code",
   "execution_count": 4,
   "id": "08155df0-ac5f-4303-9cff-f46636a96312",
   "metadata": {},
   "outputs": [],
   "source": [
    "class ListQueueFakeDelete:\n",
    "    def __init__(self):\n",
    "        self._head = 0\n",
    "        self._L = []\n",
    "    \n",
    "    def enqueue(self, item):\n",
    "        self._L.append(item)\n",
    "        \n",
    "    def peek(self):\n",
    "        return self._L[self._head]\n",
    "    \n",
    "    def dequeue(self):\n",
    "        item = self.peek()\n",
    "        self._head += 1\n",
    "        return item\n",
    "    \n",
    "    def __len__(self):\n",
    "        return len(self._L) - self._head\n",
    "    \n",
    "    def isempty(self):\n",
    "        return len(self) == 0"
   ]
  },
  {
   "cell_type": "code",
   "execution_count": 5,
   "id": "27ea9eaa-712b-4802-ba0a-a0d73f9fdc54",
   "metadata": {},
   "outputs": [],
   "source": [
    "class ListQueue(ListQueueFakeDelete):\n",
    "    def dequeue(self):\n",
    "        item = self._L(self._head)\n",
    "        self._head += 1\n",
    "        if self._head > len(self._L)//2:\n",
    "            self._L = self._L[self._head:]\n",
    "            self._head = 0\n",
    "        return item"
   ]
  },
  {
   "cell_type": "code",
   "execution_count": 8,
   "id": "46d2d73c-9134-4097-97f2-46bab8ae9ac5",
   "metadata": {},
   "outputs": [],
   "source": [
    "class AnotherStack(ListStack):\n",
    "    def pop(self):\n",
    "        try:\n",
    "            return self._L.pop()\n",
    "        except IndexError:\n",
    "            raise RuntimeError(\"Can't pop from empty stack.\")"
   ]
  },
  {
   "cell_type": "code",
   "execution_count": 7,
   "id": "1afe31bd-d1a1-43f2-816e-921e3549cf9e",
   "metadata": {},
   "outputs": [],
   "source": [
    "class ListStack:\n",
    "    def __init__(self):\n",
    "        self._L = []\n",
    "    \n",
    "    def push(self, item):\n",
    "        self._L.append(item)\n",
    "    \n",
    "    def pop(self):\n",
    "        return self._L.pop()\n",
    "        \n",
    "    def peek(self):\n",
    "        return self._L[-1]\n",
    "        \n",
    "    def __len__(self):\n",
    "        return len(self._L)\n",
    "    \n",
    "    def isempty(self):\n",
    "        return len(self) == 0"
   ]
  },
  {
   "cell_type": "code",
   "execution_count": null,
   "id": "dc3862aa-357b-40b0-a91e-fdf829d627a5",
   "metadata": {},
   "outputs": [],
   "source": []
  }
 ],
 "metadata": {
  "kernelspec": {
   "display_name": "Python 3",
   "language": "python",
   "name": "python3"
  },
  "language_info": {
   "codemirror_mode": {
    "name": "ipython",
    "version": 3
   },
   "file_extension": ".py",
   "mimetype": "text/x-python",
   "name": "python",
   "nbconvert_exporter": "python",
   "pygments_lexer": "ipython3",
   "version": "3.9.5"
  }
 },
 "nbformat": 4,
 "nbformat_minor": 5
}
