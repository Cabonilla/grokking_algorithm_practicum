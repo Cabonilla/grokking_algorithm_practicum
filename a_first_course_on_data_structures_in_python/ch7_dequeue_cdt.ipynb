{
 "cells": [
  {
   "cell_type": "code",
   "execution_count": 1,
   "id": "08e9c115-fe9c-45fa-80d5-9286154e767d",
   "metadata": {},
   "outputs": [],
   "source": [
    "#The Deque ADT\n",
    "\n",
    "#addfirst(item) - insert \n",
    "#addlast(item) - append\n",
    "#removefirst(item) - remove first\n",
    "#removelast(item) - pop\n",
    "#len - length"
   ]
  },
  {
   "cell_type": "code",
   "execution_count": 2,
   "id": "3f0dd6de-6e89-4125-ba45-2f5b55f97df0",
   "metadata": {},
   "outputs": [],
   "source": [
    "class ListDeque:\n",
    "    def __init__(self):\n",
    "        self._L = []\n",
    "        \n",
    "    def addfirst(self, item):\n",
    "        self._L.insert(0, item)\n",
    "    \n",
    "    def addlast(self, item):\n",
    "        self._L.append(item)\n",
    "        \n",
    "    def removelast(self):\n",
    "        return self._L.pop(0)\n",
    "    \n",
    "    def removelast(self):\n",
    "        return self._L.pop()\n",
    "    \n",
    "    def __len__(self):\n",
    "        return len(self._L)\n",
    "        "
   ]
  },
  {
   "cell_type": "code",
   "execution_count": 3,
   "id": "2ae8dae4-634b-44c7-96f7-539369a4b197",
   "metadata": {},
   "outputs": [],
   "source": [
    "class LinkedList:\n",
    "    def __init__(self):\n",
    "        self._head = None\n",
    "        self._tail = None\n",
    "        \n",
    "    def addfirst(self, item):\n",
    "        self._head = ListNode(item, self._head)\n",
    "        if self._tail is None: self._tail = self._head\n",
    "            \n",
    "    def addlast(self, item):\n",
    "        if self._head is None:\n",
    "            self.addfirst(item)\n",
    "        else:\n",
    "            self._tail.link = ListNode(item)\n",
    "            self._tail = self._tail.link\n",
    "            \n",
    "    def removefirst(self):\n",
    "        item = self._head.data\n",
    "        self._head = self._head.link\n",
    "        if self._head is None: self._tail = None\n",
    "        return item\n",
    "    \n",
    "    def removelast(self):\n",
    "        if self._head is self._tail:\n",
    "            return self.removefirst()\n",
    "        else:\n",
    "            currentnode = self._head\n",
    "            while currentnode.link is not self._tail:\n",
    "                currentnode = currentnode.link\n",
    "            item = self._tail.data\n",
    "            self._tail = currentnode\n",
    "            self._tail.link = None\n",
    "            return item"
   ]
  },
  {
   "cell_type": "code",
   "execution_count": null,
   "id": "a91428b5-8120-4974-836e-1f3bdded8d63",
   "metadata": {},
   "outputs": [],
   "source": []
  }
 ],
 "metadata": {
  "kernelspec": {
   "display_name": "Python 3",
   "language": "python",
   "name": "python3"
  },
  "language_info": {
   "codemirror_mode": {
    "name": "ipython",
    "version": 3
   },
   "file_extension": ".py",
   "mimetype": "text/x-python",
   "name": "python",
   "nbconvert_exporter": "python",
   "pygments_lexer": "ipython3",
   "version": "3.9.5"
  }
 },
 "nbformat": 4,
 "nbformat_minor": 5
}
