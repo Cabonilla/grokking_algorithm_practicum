{
 "cells": [
  {
   "cell_type": "code",
   "execution_count": 1,
   "id": "6915886d-3a52-42f7-9fd5-0d805004e83b",
   "metadata": {},
   "outputs": [],
   "source": [
    "class ListNode:\n",
    "    def __init__(self, data, prev=None, link=None):\n",
    "        self.data = data\n",
    "        self.prev = prev\n",
    "        self.link = link\n",
    "        if prev is not None:\n",
    "            self.prev.link = self\n",
    "        if link is not None:\n",
    "            self.prev = self"
   ]
  },
  {
   "cell_type": "code",
   "execution_count": 2,
   "id": "23ef7521-6bc9-4999-8423-80c8184935e0",
   "metadata": {},
   "outputs": [],
   "source": [
    "class DoublyLinkedList:\n",
    "    def __init__(self):\n",
    "        self._head = None\n",
    "        self._tail = None\n",
    "        self._length = 0\n",
    "        \n",
    "    def addfirst(self, item):\n",
    "        if len(self)==0:\n",
    "            self._head = self._tail = ListNode(item, None, None)\n",
    "        else: \n",
    "            newnode = ListNode(item, None, self._head)\n",
    "            self._head.prev = newnode\n",
    "            self._head = newnode\n",
    "        self._length += 1\n",
    "    \n",
    "    def addlast(self, item):\n",
    "        if len(self)==0:\n",
    "            self._head = self._tail = ListNode(item, None, None)\n",
    "        else:\n",
    "            newnode = ListNode(item, self._tail, None)\n",
    "            self._tail.link = newnode\n",
    "            self._tail = newnode\n",
    "        self._length += 1\n",
    "    \n",
    "    def __len__(self):\n",
    "        return self._length\n",
    "    "
   ]
  },
  {
   "cell_type": "code",
   "execution_count": 9,
   "id": "b1d45412-e3b2-479b-9070-1fdad83676ed",
   "metadata": {},
   "outputs": [],
   "source": [
    "#refactored doubly-linked\n",
    "class DoublyLinkedList:\n",
    "    def __init__(self):\n",
    "        self._head = None\n",
    "        self._tail = None\n",
    "        self._length = 0\n",
    "        \n",
    "    def __len(self):\n",
    "        return self._length\n",
    "    \n",
    "    def _addbetween(self, item, before, after):\n",
    "        node = ListNode(item, before, after)\n",
    "        if after is self._head:\n",
    "            self._head = node\n",
    "        if before is self._tail:\n",
    "            self._tail = node\n",
    "        self._length += 1\n",
    "        \n",
    "    def addfirst(self, item):\n",
    "        self._addbetween(item, None, self._head)\n",
    "    \n",
    "    def addlast(self, item):\n",
    "        self._addbetween(item, self._tail, None)\n",
    "        \n",
    "    def _remove(self, node):\n",
    "        before, after = node.prev, node.link\n",
    "        if node is self._head:\n",
    "            self._head = after\n",
    "        else:\n",
    "            before.link = after\n",
    "        if node is self._tail:\n",
    "            self._tail = before\n",
    "        else:\n",
    "            after.prev = before\n",
    "        \n",
    "    def removefirst(self):\n",
    "        return self._remove(self._head)\n",
    "    \n",
    "    def removelast(self):\n",
    "        return self._remove(self._tail)\n",
    "    \n",
    "    def __iadd__(self, other):\n",
    "        if other._head is not None:\n",
    "            if self._head is None:\n",
    "                self._head = other._head\n",
    "            else: \n",
    "                self._tail.link = other._head\n",
    "                other._head.prev = self._tail\n",
    "            self._tail = other._tail\n",
    "            self._length = self._length + other._length\n",
    "            other.__init__()\n",
    "        return self"
   ]
  },
  {
   "cell_type": "code",
   "execution_count": 10,
   "id": "9597f0bd-21ef-49d9-bfcd-dc3213e11491",
   "metadata": {},
   "outputs": [],
   "source": [
    "L = DoublyLinkedList()"
   ]
  },
  {
   "cell_type": "code",
   "execution_count": 11,
   "id": "15ab715a-cd6b-4f6e-8d64-7eea39905ad9",
   "metadata": {},
   "outputs": [
    {
     "data": {
      "text/plain": [
       "[None, None, None, None, None, None, None, None, None, None, None]"
      ]
     },
     "execution_count": 11,
     "metadata": {},
     "output_type": "execute_result"
    }
   ],
   "source": [
    "[L.addlast(i) for i in range(11)]"
   ]
  },
  {
   "cell_type": "code",
   "execution_count": 12,
   "id": "937460b6-254b-4648-a37b-9542679d0031",
   "metadata": {},
   "outputs": [],
   "source": [
    "B = DoublyLinkedList()"
   ]
  },
  {
   "cell_type": "code",
   "execution_count": 13,
   "id": "fa64dc77-0df4-4b4f-af0c-155963fe4d06",
   "metadata": {},
   "outputs": [
    {
     "data": {
      "text/plain": [
       "[None, None, None, None, None, None, None, None, None, None]"
      ]
     },
     "execution_count": 13,
     "metadata": {},
     "output_type": "execute_result"
    }
   ],
   "source": [
    "[B.addlast(i + 11) for i in range(10)]"
   ]
  },
  {
   "cell_type": "code",
   "execution_count": 17,
   "id": "7eb830ca-a395-4956-9800-1da2a3b1b3ef",
   "metadata": {},
   "outputs": [
    {
     "name": "stdout",
     "output_type": "stream",
     "text": [
      "0 1 2 3 4 5 6 7 8 9 10 11 12 13 14 15 16 17 18 19 20 "
     ]
    }
   ],
   "source": [
    "L += B\n",
    "\n",
    "n = L._head\n",
    "while n is not None:\n",
    "    print(n.data, end=' ')\n",
    "    n = n.link"
   ]
  },
  {
   "cell_type": "code",
   "execution_count": null,
   "id": "051d2f76-2b92-4109-9ef1-9b9f8febae66",
   "metadata": {},
   "outputs": [],
   "source": []
  }
 ],
 "metadata": {
  "kernelspec": {
   "display_name": "Python 3",
   "language": "python",
   "name": "python3"
  },
  "language_info": {
   "codemirror_mode": {
    "name": "ipython",
    "version": 3
   },
   "file_extension": ".py",
   "mimetype": "text/x-python",
   "name": "python",
   "nbconvert_exporter": "python",
   "pygments_lexer": "ipython3",
   "version": "3.9.5"
  }
 },
 "nbformat": 4,
 "nbformat_minor": 5
}
