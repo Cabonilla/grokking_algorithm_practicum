{
 "cells": [
  {
   "cell_type": "code",
   "execution_count": 2,
   "id": "88745e19-9897-458a-b631-08bfa33675d6",
   "metadata": {},
   "outputs": [],
   "source": [
    "def timetrials(func, n, trials=10):\n",
    "    totaltime = 0\n",
    "    for i in range(trials):\n",
    "        start = time.time()\n",
    "        func(list(range(n)))\n",
    "        totaltime += time.time() - start\n",
    "    print(\"average =%10.7f for n = %d\" % (totaltime/trials, n))"
   ]
  },
  {
   "cell_type": "code",
   "execution_count": 4,
   "id": "ec1defad-cdb7-4998-a7be-4e5b213b4caf",
   "metadata": {},
   "outputs": [
    {
     "name": "stdout",
     "output_type": "stream",
     "text": [
      "Time taken for n =  1000 :  0.18587923049926758\n",
      "Time taken for n =  1000 :  0.17180395126342773\n",
      "Time taken for n =  1000 :  0.1369161605834961\n",
      "Time taken for n =  1000 :  0.15490317344665527\n",
      "Time taken for n =  1000 :  0.13092803955078125\n"
     ]
    }
   ],
   "source": [
    "import time\n",
    "\n",
    "for i in range(5):\n",
    "    n = 1000\n",
    "    start = time.time()\n",
    "    duplicates1(list(range(n)))\n",
    "    timetaken = time.time() - start\n",
    "    print(\"Time taken for n = \", n, \": \", timetaken)"
   ]
  },
  {
   "cell_type": "code",
   "execution_count": 3,
   "id": "521734c4-ad51-42bc-ac4c-facf86860747",
   "metadata": {},
   "outputs": [],
   "source": [
    "def duplicates1(L):\n",
    "    n = len(L)\n",
    "    for i in range(n):\n",
    "        for j in range(n):\n",
    "            if i != j and L[i] == L[j]:\n",
    "                return True\n",
    "    return False"
   ]
  },
  {
   "cell_type": "code",
   "execution_count": 5,
   "id": "0826c6aa-a0dd-4799-a460-0db46f08f11d",
   "metadata": {},
   "outputs": [
    {
     "name": "stdout",
     "output_type": "stream",
     "text": [
      "average = 0.0006997 for n = 50\n",
      "average = 0.0017982 for n = 100\n",
      "average = 0.0098939 for n = 200\n",
      "average = 0.0210869 for n = 400\n",
      "average = 0.0822503 for n = 800\n",
      "average = 0.3231013 for n = 1600\n",
      "average = 1.3463710 for n = 3200\n"
     ]
    }
   ],
   "source": [
    "for n in [50, 100, 200, 400, 800, 1600, 3200]:\n",
    "    timetrials(duplicates1, n)"
   ]
  },
  {
   "cell_type": "code",
   "execution_count": 6,
   "id": "44349ab2-11f7-4026-bccf-2c83f518235d",
   "metadata": {},
   "outputs": [],
   "source": [
    "def duplicates2(L):\n",
    "    n = len(L)\n",
    "    for i in range(1,n):\n",
    "        for j in range(i):\n",
    "            if L[i] == L[j]:\n",
    "                return True\n",
    "    return False"
   ]
  },
  {
   "cell_type": "code",
   "execution_count": 7,
   "id": "9e8e2906-b6ac-4591-9472-c4d257048337",
   "metadata": {},
   "outputs": [
    {
     "name": "stdout",
     "output_type": "stream",
     "text": [
      "average = 0.0001997 for n = 50\n",
      "average = 0.0010993 for n = 100\n",
      "average = 0.0026985 for n = 200\n",
      "average = 0.0119924 for n = 400\n",
      "average = 0.0343790 for n = 800\n",
      "average = 0.1375152 for n = 1600\n",
      "average = 0.5294234 for n = 3200\n"
     ]
    }
   ],
   "source": [
    "for n in [50, 100, 200, 400, 800, 1600, 3200]:\n",
    "    timetrials(duplicates2, n)"
   ]
  },
  {
   "cell_type": "code",
   "execution_count": 8,
   "id": "b67e90b7-5dd6-48a0-be01-b63f7eac22b3",
   "metadata": {},
   "outputs": [],
   "source": [
    "def duplicates3(L):\n",
    "    n = len(L)\n",
    "    return any(L[i] == L[j] for i in range(1,n) for j in range(i))"
   ]
  },
  {
   "cell_type": "code",
   "execution_count": 9,
   "id": "29e2e7bf-dc7a-4a77-a2b7-3ee9626e2552",
   "metadata": {},
   "outputs": [
    {
     "name": "stdout",
     "output_type": "stream",
     "text": [
      "average = 0.0004997 for n = 50\n",
      "average = 0.0018985 for n = 100\n",
      "average = 0.0042977 for n = 200\n",
      "average = 0.0167896 for n = 400\n",
      "average = 0.0506687 for n = 800\n",
      "average = 0.2270603 for n = 1600\n",
      "average = 0.8604715 for n = 3200\n"
     ]
    }
   ],
   "source": [
    "for n in [50, 100, 200, 400, 800, 1600, 3200]:\n",
    "    timetrials(duplicates3, n)"
   ]
  },
  {
   "cell_type": "code",
   "execution_count": 10,
   "id": "d0376232-8e9f-400c-af63-4a97e1efaf4c",
   "metadata": {},
   "outputs": [],
   "source": [
    "def duplicates4(L):\n",
    "    n = len(L)\n",
    "    L.sort()\n",
    "    for i in range(n-1):\n",
    "        if L[i] == L[i+1]:\n",
    "            return True\n",
    "    return False"
   ]
  },
  {
   "cell_type": "code",
   "execution_count": 11,
   "id": "9bfe8946-a056-4e0c-9209-5698c06f6930",
   "metadata": {},
   "outputs": [
    {
     "name": "stdout",
     "output_type": "stream",
     "text": [
      "average = 0.0000000 for n = 50\n",
      "average = 0.0000000 for n = 100\n",
      "average = 0.0000000 for n = 200\n",
      "average = 0.0000998 for n = 400\n",
      "average = 0.0000999 for n = 800\n",
      "average = 0.0005997 for n = 1600\n",
      "average = 0.0012992 for n = 3200\n"
     ]
    }
   ],
   "source": [
    "for n in [50, 100, 200, 400, 800, 1600, 3200]:\n",
    "    timetrials(duplicates4, n)"
   ]
  },
  {
   "cell_type": "code",
   "execution_count": 12,
   "id": "c897d7c8-4acc-49c1-b51c-4e60354002e7",
   "metadata": {},
   "outputs": [],
   "source": [
    "def duplicates5(L):\n",
    "    n = len(L)\n",
    "    L.sort()\n",
    "    return any(L[i] == L[i+1] for i in range(n-1))"
   ]
  },
  {
   "cell_type": "code",
   "execution_count": 13,
   "id": "b9533940-cbf8-4017-b0b4-1069d4ee940e",
   "metadata": {},
   "outputs": [
    {
     "name": "stdout",
     "output_type": "stream",
     "text": [
      "average = 0.0000000 for n = 50\n",
      "average = 0.0000000 for n = 100\n",
      "average = 0.0000999 for n = 200\n",
      "average = 0.0000999 for n = 400\n",
      "average = 0.0001998 for n = 800\n",
      "average = 0.0005995 for n = 1600\n",
      "average = 0.0010993 for n = 3200\n"
     ]
    }
   ],
   "source": [
    "for n in [50, 100, 200, 400, 800, 1600, 3200]:\n",
    "    timetrials(duplicates5, n)"
   ]
  },
  {
   "cell_type": "code",
   "execution_count": 14,
   "id": "bc9bf853-3e4c-4828-bb50-061e7f45252c",
   "metadata": {},
   "outputs": [],
   "source": [
    "def duplicates6(L):\n",
    "    s = set()\n",
    "    for e in L:\n",
    "        if e in s:\n",
    "            return True\n",
    "        s.add(e)"
   ]
  },
  {
   "cell_type": "code",
   "execution_count": 15,
   "id": "31cf5694-7b4a-438d-b605-53601720f2d4",
   "metadata": {},
   "outputs": [
    {
     "name": "stdout",
     "output_type": "stream",
     "text": [
      "average = 0.0000999 for n = 50\n",
      "average = 0.0000000 for n = 100\n",
      "average = 0.0000998 for n = 200\n",
      "average = 0.0001000 for n = 400\n",
      "average = 0.0000999 for n = 800\n",
      "average = 0.0006995 for n = 1600\n",
      "average = 0.0010992 for n = 3200\n"
     ]
    }
   ],
   "source": [
    "for n in [50, 100, 200, 400, 800, 1600, 3200]:\n",
    "    timetrials(duplicates6, n)"
   ]
  },
  {
   "cell_type": "code",
   "execution_count": 16,
   "id": "0f9ec22f-3035-4794-9829-fba98dd854ed",
   "metadata": {},
   "outputs": [],
   "source": [
    "def duplicates7(L):\n",
    "    return len(L) != len(set(L))\n",
    "\n",
    "def duplicates8(L):\n",
    "    s = set()\n",
    "    return any(e in s or s.add(e) for e in L)"
   ]
  },
  {
   "cell_type": "code",
   "execution_count": 17,
   "id": "b3f16c0f-a279-4020-b43d-5449e8dc4e54",
   "metadata": {},
   "outputs": [
    {
     "name": "stdout",
     "output_type": "stream",
     "text": [
      "Quadratic: average = 0.0001998 for n = 50\n",
      "Sorting: average = 0.0000999 for n = 50\n",
      "Sets: average = 0.0000000 for n = 50\n",
      "------------------\n",
      "Quadratic: average = 0.0009991 for n = 100\n",
      "Sorting: average = 0.0000000 for n = 100\n",
      "Sets: average = 0.0000000 for n = 100\n",
      "------------------\n",
      "Quadratic: average = 0.0063964 for n = 200\n",
      "Sorting: average = 0.0000000 for n = 200\n",
      "Sets: average = 0.0000000 for n = 200\n",
      "------------------\n",
      "Quadratic: average = 0.0157901 for n = 400\n",
      "Sorting: average = 0.0000000 for n = 400\n",
      "Sets: average = 0.0000000 for n = 400\n",
      "------------------\n",
      "Quadratic: average = 0.0487709 for n = 800\n",
      "Sorting: average = 0.0000998 for n = 800\n",
      "Sets: average = 0.0001000 for n = 800\n",
      "------------------\n",
      "Quadratic: average = 0.2053729 for n = 1600\n",
      "Sorting: average = 0.0004000 for n = 1600\n",
      "Sets: average = 0.0000000 for n = 1600\n",
      "------------------\n",
      "Quadratic: average = 0.8872540 for n = 3200\n",
      "Sorting: average = 0.0005996 for n = 3200\n",
      "Sets: average = 0.0001000 for n = 3200\n",
      "------------------\n"
     ]
    }
   ],
   "source": [
    "for n in [50, 100, 200, 400, 800, 1600, 3200]:\n",
    "    print(\"Quadratic: \", end=\"\")\n",
    "    timetrials(duplicates3, n)\n",
    "    print(\"Sorting: \", end=\"\")\n",
    "    timetrials(duplicates5, n)\n",
    "    print(\"Sets: \", end=\"\")\n",
    "    timetrials(duplicates7, n)\n",
    "    print(\"------------------\")"
   ]
  },
  {
   "cell_type": "code",
   "execution_count": null,
   "id": "08a04d64-755b-41e1-81fc-b1d962f97aa5",
   "metadata": {},
   "outputs": [],
   "source": []
  }
 ],
 "metadata": {
  "kernelspec": {
   "display_name": "Python 3",
   "language": "python",
   "name": "python3"
  },
  "language_info": {
   "codemirror_mode": {
    "name": "ipython",
    "version": 3
   },
   "file_extension": ".py",
   "mimetype": "text/x-python",
   "name": "python",
   "nbconvert_exporter": "python",
   "pygments_lexer": "ipython3",
   "version": "3.9.5"
  }
 },
 "nbformat": 4,
 "nbformat_minor": 5
}
