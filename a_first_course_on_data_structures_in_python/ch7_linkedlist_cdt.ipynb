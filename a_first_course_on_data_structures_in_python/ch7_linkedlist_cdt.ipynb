{
 "cells": [
  {
   "cell_type": "code",
   "execution_count": 1,
   "id": "05267a91-654a-4210-9daf-1bb65d4a0883",
   "metadata": {},
   "outputs": [],
   "source": [
    "class ListNode:\n",
    "    def __init__(self, data, link = None):\n",
    "        self.data = data\n",
    "        self.link = link\n",
    "        \n",
    "class LinkedList: \n",
    "    def __init__(self):\n",
    "        self._head = None\n",
    "    \n",
    "    def addfirst(self, item):\n",
    "        self._head = ListNode(item, self._head)\n",
    "        \n",
    "    def addlast(self, item):\n",
    "        if self._head is None:\n",
    "            self.addfirst(item)\n",
    "        else:\n",
    "            currentnode = self._head\n",
    "            while currentnode.link is not None:\n",
    "                currentnode = currentnode.link\n",
    "    \n",
    "    def removefirst(self):\n",
    "        item = self._head.data\n",
    "        self._head = self._head.link\n",
    "        return item\n",
    "    \n",
    "    def removelast(self):\n",
    "        if self._head.link is None:\n",
    "            return self.removefirst()\n",
    "        else:\n",
    "            currentnode = self._head\n",
    "            while currentnode.link.link is not None:\n",
    "                currentnode = currentnode.link\n",
    "            item = currentnode.link.data\n",
    "            return item"
   ]
  },
  {
   "cell_type": "code",
   "execution_count": null,
   "id": "855b296e-2cb3-4cb7-9e9e-328ab1eede49",
   "metadata": {},
   "outputs": [],
   "source": []
  }
 ],
 "metadata": {
  "kernelspec": {
   "display_name": "Python 3",
   "language": "python",
   "name": "python3"
  },
  "language_info": {
   "codemirror_mode": {
    "name": "ipython",
    "version": 3
   },
   "file_extension": ".py",
   "mimetype": "text/x-python",
   "name": "python",
   "nbconvert_exporter": "python",
   "pygments_lexer": "ipython3",
   "version": "3.9.5"
  }
 },
 "nbformat": 4,
 "nbformat_minor": 5
}
