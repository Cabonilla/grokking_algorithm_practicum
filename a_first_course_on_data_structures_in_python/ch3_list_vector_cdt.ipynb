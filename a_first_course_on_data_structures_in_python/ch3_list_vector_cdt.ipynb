{
 "cells": [
  {
   "cell_type": "code",
   "execution_count": 1,
   "id": "6b229ce4-f081-42bd-b68e-fa7b11dae443",
   "metadata": {},
   "outputs": [],
   "source": [
    "u = (1,2)\n",
    "v = (1,3)\n",
    "\n",
    "def add(a,b):\n",
    "    return (a[0] + b[0], a[1] + b[1])\n",
    "\n",
    "def sub(a,b):\n",
    "    return (a[0] - b[0], a[1] - b[1])\n",
    "\n",
    "def dot(a,b):\n",
    "    return (a[0] * b[0] + a[1] * b[1])\n",
    "\n",
    "def norm(a):\n",
    "    return (a[0] * a[0] + a[1] * a[1]) ** 0.5\n",
    "\n",
    "def isvertical(a):\n",
    "    return a[0] == 0\n"
   ]
  },
  {
   "cell_type": "code",
   "execution_count": 2,
   "id": "d5ee2598-1c79-4066-8f9c-75644c772fe4",
   "metadata": {},
   "outputs": [
    {
     "name": "stdout",
     "output_type": "stream",
     "text": [
      "2.23606797749979\n",
      "(2, 5)\n",
      "(1, 2, 1, 3)\n",
      "True\n"
     ]
    }
   ],
   "source": [
    "print(norm(u))\n",
    "\n",
    "print(add(u,v))\n",
    "\n",
    "print(u + v)\n",
    "\n",
    "print(isvertical(sub(v, u)))"
   ]
  },
  {
   "cell_type": "code",
   "execution_count": 3,
   "id": "d34f98e8-3308-4485-b235-421745e9d4a6",
   "metadata": {},
   "outputs": [],
   "source": [
    "class Vector:\n",
    "    def __init__(self, x, y):\n",
    "        try:\n",
    "            self.x = float(x)\n",
    "            self.y = float(y)\n",
    "        except ValueError:\n",
    "            self.x = 0.0\n",
    "            self.y = 0.0\n",
    "        \n",
    "    def norm(self):\n",
    "        return (self.x**2 + self.y**2) ** 0.5\n",
    "    \n",
    "    def __add__(self, other):\n",
    "        newx = self.x + other.x\n",
    "        newy = self.y + other.y\n",
    "        return Vector(newx, newy)\n",
    "\n",
    "    def __str__(self):\n",
    "        return \"(%f, %f)\" %(self.x, self.y)"
   ]
  },
  {
   "cell_type": "code",
   "execution_count": 4,
   "id": "0c93da95-2a90-45e2-b0c7-ea1d0bbf128f",
   "metadata": {},
   "outputs": [
    {
     "name": "stdout",
     "output_type": "stream",
     "text": [
      "(2.000000, 5.000000)\n"
     ]
    }
   ],
   "source": [
    "u = Vector(1,2)\n",
    "v = Vector(1,3)\n",
    "\n",
    "print(u + v)"
   ]
  },
  {
   "cell_type": "code",
   "execution_count": null,
   "id": "8a95c504-0b92-47f5-af7c-d8544704f4a5",
   "metadata": {},
   "outputs": [],
   "source": []
  }
 ],
 "metadata": {
  "kernelspec": {
   "display_name": "Python 3",
   "language": "python",
   "name": "python3"
  },
  "language_info": {
   "codemirror_mode": {
    "name": "ipython",
    "version": 3
   },
   "file_extension": ".py",
   "mimetype": "text/x-python",
   "name": "python",
   "nbconvert_exporter": "python",
   "pygments_lexer": "ipython3",
   "version": "3.9.5"
  }
 },
 "nbformat": 4,
 "nbformat_minor": 5
}
