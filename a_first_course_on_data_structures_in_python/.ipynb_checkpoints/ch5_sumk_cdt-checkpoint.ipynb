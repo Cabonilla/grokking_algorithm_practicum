{
 "cells": [
  {
   "cell_type": "code",
   "execution_count": 1,
   "id": "2c6e343a-c0be-46cc-9639-ecb0a7b616b9",
   "metadata": {},
   "outputs": [],
   "source": [
    "import time\n",
    "\n",
    "def sumk(k):\n",
    "    start = time.time()\n",
    "    \n",
    "    total = 0\n",
    "    for i in range(k + 1):\n",
    "        total = total + i\n",
    "    end = time.time()\n",
    "    \n",
    "    return total, end-start"
   ]
  },
  {
   "cell_type": "code",
   "execution_count": 2,
   "id": "165a79c5-ad05-4606-a1e9-fa1454eca980",
   "metadata": {},
   "outputs": [
    {
     "name": "stdout",
     "output_type": "stream",
     "text": [
      "Sum: 50005000, time taken: 0.000999\n",
      "Sum: 50005000, time taken: 0.001000\n",
      "Sum: 50005000, time taken: 0.001998\n",
      "Sum: 50005000, time taken: 0.002000\n",
      "Sum: 50005000, time taken: 0.001997\n"
     ]
    }
   ],
   "source": [
    "for i in range(5):\n",
    "    print(\"Sum: %d, time taken: %f\" % sumk(10000))"
   ]
  },
  {
   "cell_type": "code",
   "execution_count": 3,
   "id": "bd5b428e-d90b-46e1-9e41-706cfa681b4a",
   "metadata": {},
   "outputs": [],
   "source": [
    "def timetrials(func, k, trials=10):\n",
    "    totaltime = 0\n",
    "    for i in range(trials):\n",
    "        totaltime += func(k)[1]\n",
    "    print(\"average =%10.7f for k = %d\" % (totaltime/trials, k))"
   ]
  },
  {
   "cell_type": "code",
   "execution_count": 4,
   "id": "75adef93-6049-49ac-996c-0901d1fa2906",
   "metadata": {},
   "outputs": [
    {
     "name": "stdout",
     "output_type": "stream",
     "text": [
      "average = 0.0008994 for k = 10000\n",
      "average = 0.0111930 for k = 100000\n",
      "average = 0.0786524 for k = 1000000\n",
      "average = 0.8873541 for k = 10000000\n"
     ]
    }
   ],
   "source": [
    "timetrials(sumk, 10000)\n",
    "timetrials(sumk, 100000)\n",
    "timetrials(sumk, 1000000)\n",
    "timetrials(sumk, 10000000)"
   ]
  },
  {
   "cell_type": "code",
   "execution_count": 7,
   "id": "f5df6325-fd8b-4e96-adb7-5f110e186e1e",
   "metadata": {},
   "outputs": [],
   "source": [
    "def sumk2(k):\n",
    "    start = time.time()\n",
    "    total = (k*(k+1)//2)\n",
    "    end = time.time()\n",
    "    return total, end-start"
   ]
  },
  {
   "cell_type": "code",
   "execution_count": 8,
   "id": "9ee39943-0556-4b9c-8135-a52dd4122e63",
   "metadata": {},
   "outputs": [
    {
     "name": "stdout",
     "output_type": "stream",
     "text": [
      "average = 0.0000000 for k = 10000\n",
      "average = 0.0000000 for k = 100000\n",
      "average = 0.0000000 for k = 1000000\n",
      "average = 0.0000000 for k = 10000000\n"
     ]
    }
   ],
   "source": [
    "timetrials(sumk2, 10000)\n",
    "timetrials(sumk2, 100000)\n",
    "timetrials(sumk2, 1000000)\n",
    "timetrials(sumk2, 10000000)"
   ]
  },
  {
   "cell_type": "code",
   "execution_count": null,
   "id": "d3b74b7b-f432-40e2-8a8a-a9fc072b26ef",
   "metadata": {},
   "outputs": [],
   "source": []
  }
 ],
 "metadata": {
  "kernelspec": {
   "display_name": "Python 3",
   "language": "python",
   "name": "python3"
  },
  "language_info": {
   "codemirror_mode": {
    "name": "ipython",
    "version": 3
   },
   "file_extension": ".py",
   "mimetype": "text/x-python",
   "name": "python",
   "nbconvert_exporter": "python",
   "pygments_lexer": "ipython3",
   "version": "3.9.5"
  }
 },
 "nbformat": 4,
 "nbformat_minor": 5
}
