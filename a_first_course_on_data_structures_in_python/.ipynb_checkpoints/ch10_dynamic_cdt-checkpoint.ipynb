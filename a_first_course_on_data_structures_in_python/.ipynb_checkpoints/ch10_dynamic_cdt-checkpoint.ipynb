{
 "cells": [
  {
   "cell_type": "code",
   "execution_count": 7,
   "id": "79355f05-dc4b-46d5-b91a-cf86851a3360",
   "metadata": {},
   "outputs": [
    {
     "name": "stdout",
     "output_type": "stream",
     "text": [
      "7\n",
      "4\n",
      "6\n",
      "7\n"
     ]
    }
   ],
   "source": [
    "#a greedy algorithm\n",
    "\n",
    "def greedyMC(coinvalueList, change):\n",
    "    coinvalueList.sort()\n",
    "    coinvalueList.reverse()\n",
    "    numcoins = 0\n",
    "    for c in coinvalueList:\n",
    "        numcoins += change // c\n",
    "        change = change % c\n",
    "    return numcoins\n",
    "\n",
    "arr = [1, 5, 10, 25]\n",
    "cents = 64\n",
    "cents1 = 100\n",
    "cents2 = 150\n",
    "cents3 = 160\n",
    "\n",
    "print(greedyMC(arr, cents))\n",
    "print(greedyMC(arr, cents1))\n",
    "print(greedyMC(arr, cents2))\n",
    "print(greedyMC(arr, cents3))"
   ]
  },
  {
   "cell_type": "code",
   "execution_count": 15,
   "id": "69bf00da-3b2b-4063-8c7a-e6d5e21bac74",
   "metadata": {},
   "outputs": [],
   "source": [
    "#recursive version, very slow\n",
    "def recMC(coinValueList, change):\n",
    "    minCoins = change\n",
    "    if change in coinValueList:\n",
    "        return 1\n",
    "    else:\n",
    "        for i in [c for c in coinValueList if c <= change]:\n",
    "            numCoins = 1 + recMC(coinValueList, change-i)\n",
    "            if numCoins < minCoins:\n",
    "                minCoins = numCoins\n",
    "    return minCoins"
   ]
  },
  {
   "cell_type": "code",
   "execution_count": 19,
   "id": "4fe02dc9-ab38-4c1c-9f4e-14e433886e11",
   "metadata": {},
   "outputs": [],
   "source": [
    "#recursive version, memoized\n",
    "def memoMC(coinValueList, change, knownResults):\n",
    "    minCoins = change\n",
    "    if change in coinValueList:\n",
    "        knownResults[change] = 1\n",
    "        return 1\n",
    "    elif change in knownResults:\n",
    "        return knownResults[change]\n",
    "    else:\n",
    "        for i in [c for c in coinValueList if c <= change]:\n",
    "            numCoins = 1 + memoMC(coinValueList, change-i, knownResults)\n",
    "            if numCoins < minCoins:\n",
    "                minCoins = numCoins\n",
    "                knownResults[change] = minCoins\n",
    "    return minCoins"
   ]
  },
  {
   "cell_type": "code",
   "execution_count": 22,
   "id": "1966cbe6-5821-4da6-8f0f-735149fc156d",
   "metadata": {},
   "outputs": [
    {
     "name": "stdout",
     "output_type": "stream",
     "text": [
      "6\n"
     ]
    }
   ],
   "source": [
    "arr = [1, 5, 10, 25]\n",
    "change = 63\n",
    "knownResults = {}\n",
    "\n",
    "print(memoMC(arr, change, knownResults))"
   ]
  },
  {
   "cell_type": "code",
   "execution_count": 26,
   "id": "2291e674-4db2-46a6-9ed7-1415767cae52",
   "metadata": {},
   "outputs": [
    {
     "name": "stdout",
     "output_type": "stream",
     "text": [
      "6\n"
     ]
    }
   ],
   "source": [
    "#dynamic algorithm: no recursion, small to big \n",
    "\n",
    "def dpMakeChange(coinValueList, change):\n",
    "    minCoins = [None]*(change + 1)\n",
    "    \n",
    "    for cents in range(change + 1):\n",
    "        minCoins[cents] = cents\n",
    "        \n",
    "        for c in coinValueList:\n",
    "            if cents >= c:\n",
    "                minCoins[cents] = min(minCoins[cents], minCoins[cents - c] + 1)\n",
    "    \n",
    "    return minCoins[change]\n",
    "\n",
    "arr = [1, 5, 10, 25]\n",
    "change = 63\n",
    "\n",
    "print(dpMakeChange(arr, change))"
   ]
  },
  {
   "cell_type": "code",
   "execution_count": 27,
   "id": "a56daa51-04cd-4cbb-953b-c1b16e53776f",
   "metadata": {},
   "outputs": [],
   "source": [
    "#longest common substring\n",
    "def reclcs(X, Y):\n",
    "    if X == \"\" or Y == \"\":\n",
    "        return \"\"\n",
    "    if X[-1] == Y[-1]:\n",
    "        return reclcs(X[:-1], Y[:-1]) + X[-1]\n",
    "    else:\n",
    "        return max([reclcs(X[:-1], Y), reclcs(X, Y[:-1])], key=len)"
   ]
  },
  {
   "cell_type": "code",
   "execution_count": 29,
   "id": "f62ceb0d-7418-4033-af8d-a0698ecc9f77",
   "metadata": {},
   "outputs": [
    {
     "data": {
      "text/plain": [
       "'ab'"
      ]
     },
     "execution_count": 29,
     "metadata": {},
     "output_type": "execute_result"
    }
   ],
   "source": [
    "string = \"abdefgab\"\n",
    "substring = \"abc\"\n",
    "\n",
    "reclcs(string, substring)"
   ]
  },
  {
   "cell_type": "code",
   "execution_count": 46,
   "id": "f450ac09-08a8-4167-b1d5-bad9b07b9bc1",
   "metadata": {},
   "outputs": [],
   "source": [
    "def lcs(X, Y):\n",
    "    t = {}\n",
    "    for i in range(len(X) + 1): t[i, 0] = \"\"\n",
    "    for j in range(len(Y) + 1): t[0, j] = \"\"\n",
    "        \n",
    "    for i, x in enumerate(X):\n",
    "        for j, y in enumerate(Y):\n",
    "            if x == y:\n",
    "                t[(i+1, j+1)] = t[(i, j)] + x\n",
    "                print('{}\\n'.format(t))\n",
    "            else: \n",
    "                t[(i+1, j+1)] = max([t[(i, j+1)], t[(i+1, j)]], key=len)\n",
    "    print(t[len(X), len(Y)])\n",
    "    return t[(len(X), len(Y))]"
   ]
  },
  {
   "cell_type": "code",
   "execution_count": 44,
   "id": "8ff2b18e-b64a-42ee-b61a-b95565379b6b",
   "metadata": {},
   "outputs": [
    {
     "name": "stdout",
     "output_type": "stream",
     "text": [
      "{(0, 0): '', (1, 0): '', (2, 0): '', (3, 0): '', (4, 0): '', (5, 0): '', (6, 0): '', (7, 0): '', (8, 0): '', (9, 0): '', (10, 0): '', (0, 1): '', (0, 2): '', (0, 3): '', (0, 4): '', (1, 1): 'a'}\n",
      "\n",
      "{(0, 0): '', (1, 0): '', (2, 0): '', (3, 0): '', (4, 0): '', (5, 0): '', (6, 0): '', (7, 0): '', (8, 0): '', (9, 0): '', (10, 0): '', (0, 1): '', (0, 2): '', (0, 3): '', (0, 4): '', (1, 1): 'a', (1, 2): 'a', (1, 3): 'a', (1, 4): 'a', (2, 1): 'a', (2, 2): 'ab'}\n",
      "\n",
      "{(0, 0): '', (1, 0): '', (2, 0): '', (3, 0): '', (4, 0): '', (5, 0): '', (6, 0): '', (7, 0): '', (8, 0): '', (9, 0): '', (10, 0): '', (0, 1): '', (0, 2): '', (0, 3): '', (0, 4): '', (1, 1): 'a', (1, 2): 'a', (1, 3): 'a', (1, 4): 'a', (2, 1): 'a', (2, 2): 'ab', (2, 3): 'ab', (2, 4): 'ab', (3, 1): 'a', (3, 2): 'ab', (3, 3): 'abc'}\n",
      "\n",
      "{(0, 0): '', (1, 0): '', (2, 0): '', (3, 0): '', (4, 0): '', (5, 0): '', (6, 0): '', (7, 0): '', (8, 0): '', (9, 0): '', (10, 0): '', (0, 1): '', (0, 2): '', (0, 3): '', (0, 4): '', (1, 1): 'a', (1, 2): 'a', (1, 3): 'a', (1, 4): 'a', (2, 1): 'a', (2, 2): 'ab', (2, 3): 'ab', (2, 4): 'ab', (3, 1): 'a', (3, 2): 'ab', (3, 3): 'abc', (3, 4): 'abc', (4, 1): 'a', (4, 2): 'ab', (4, 3): 'abc', (4, 4): 'abc', (5, 1): 'a', (5, 2): 'ab', (5, 3): 'abc', (5, 4): 'abc', (6, 1): 'a', (6, 2): 'ab', (6, 3): 'abc', (6, 4): 'abc', (7, 1): 'a', (7, 2): 'ab', (7, 3): 'abc', (7, 4): 'abc', (8, 1): 'a'}\n",
      "\n",
      "{(0, 0): '', (1, 0): '', (2, 0): '', (3, 0): '', (4, 0): '', (5, 0): '', (6, 0): '', (7, 0): '', (8, 0): '', (9, 0): '', (10, 0): '', (0, 1): '', (0, 2): '', (0, 3): '', (0, 4): '', (1, 1): 'a', (1, 2): 'a', (1, 3): 'a', (1, 4): 'a', (2, 1): 'a', (2, 2): 'ab', (2, 3): 'ab', (2, 4): 'ab', (3, 1): 'a', (3, 2): 'ab', (3, 3): 'abc', (3, 4): 'abc', (4, 1): 'a', (4, 2): 'ab', (4, 3): 'abc', (4, 4): 'abc', (5, 1): 'a', (5, 2): 'ab', (5, 3): 'abc', (5, 4): 'abc', (6, 1): 'a', (6, 2): 'ab', (6, 3): 'abc', (6, 4): 'abc', (7, 1): 'a', (7, 2): 'ab', (7, 3): 'abc', (7, 4): 'abc', (8, 1): 'a', (8, 2): 'ab', (8, 3): 'abc', (8, 4): 'abc', (9, 1): 'a', (9, 2): 'ab'}\n",
      "\n",
      "{(0, 0): '', (1, 0): '', (2, 0): '', (3, 0): '', (4, 0): '', (5, 0): '', (6, 0): '', (7, 0): '', (8, 0): '', (9, 0): '', (10, 0): '', (0, 1): '', (0, 2): '', (0, 3): '', (0, 4): '', (1, 1): 'a', (1, 2): 'a', (1, 3): 'a', (1, 4): 'a', (2, 1): 'a', (2, 2): 'ab', (2, 3): 'ab', (2, 4): 'ab', (3, 1): 'a', (3, 2): 'ab', (3, 3): 'abc', (3, 4): 'abc', (4, 1): 'a', (4, 2): 'ab', (4, 3): 'abc', (4, 4): 'abc', (5, 1): 'a', (5, 2): 'ab', (5, 3): 'abc', (5, 4): 'abc', (6, 1): 'a', (6, 2): 'ab', (6, 3): 'abc', (6, 4): 'abc', (7, 1): 'a', (7, 2): 'ab', (7, 3): 'abc', (7, 4): 'abc', (8, 1): 'a', (8, 2): 'ab', (8, 3): 'abc', (8, 4): 'abc', (9, 1): 'a', (9, 2): 'ab', (9, 3): 'abc', (9, 4): 'abc', (10, 1): 'a', (10, 2): 'ab', (10, 3): 'abc', (10, 4): 'abcz'}\n",
      "\n",
      "abcz\n"
     ]
    },
    {
     "data": {
      "text/plain": [
       "'abcz'"
      ]
     },
     "execution_count": 44,
     "metadata": {},
     "output_type": "execute_result"
    }
   ],
   "source": [
    "string = \"abcdefgabz\"\n",
    "substring = \"abcz\"\n",
    "\n",
    "lcs(string, substring)"
   ]
  },
  {
   "cell_type": "code",
   "execution_count": null,
   "id": "1b626e26-804c-40bd-b1d2-67583b81e8bd",
   "metadata": {},
   "outputs": [],
   "source": []
  }
 ],
 "metadata": {
  "kernelspec": {
   "display_name": "Python 3",
   "language": "python",
   "name": "python3"
  },
  "language_info": {
   "codemirror_mode": {
    "name": "ipython",
    "version": 3
   },
   "file_extension": ".py",
   "mimetype": "text/x-python",
   "name": "python",
   "nbconvert_exporter": "python",
   "pygments_lexer": "ipython3",
   "version": "3.9.5"
  }
 },
 "nbformat": 4,
 "nbformat_minor": 5
}
