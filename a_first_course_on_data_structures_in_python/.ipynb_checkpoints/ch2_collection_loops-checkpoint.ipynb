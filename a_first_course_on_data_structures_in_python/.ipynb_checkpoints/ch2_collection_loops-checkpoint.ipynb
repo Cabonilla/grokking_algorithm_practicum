{
 "cells": [
  {
   "cell_type": "code",
   "execution_count": 2,
   "id": "d20b0168-4a84-42ac-b0de-38617d9188eb",
   "metadata": {},
   "outputs": [
    {
     "name": "stdout",
     "output_type": "stream",
     "text": [
      "----mylist----\n",
      "1\n",
      "2\n",
      "3\n",
      "----mytuple----\n",
      "1\n",
      "2\n",
      "skip a few\n",
      "100\n",
      "----myset----\n",
      "b\n",
      "c\n",
      "a\n",
      "----mycharacter----\n",
      "a\n",
      "b\n",
      "c\n",
      "----mydict(key)----\n",
      "a\n",
      "b\n",
      "c\n",
      "----mydict(key, value)----\n",
      "a 1\n",
      "b 2\n",
      "c 3\n",
      "---mydict(value)-----\n",
      "1\n",
      "2\n",
      "3\n"
     ]
    }
   ],
   "source": [
    "mylist = [1, 2, 3]\n",
    "mytuple = (1,2,\"skip a few\", 100)\n",
    "myset = {'a', 'b', 'c'}\n",
    "mystring = \"abc\"\n",
    "mydict = {'a': 1, 'b': 2, 'c': 3}\n",
    "\n",
    "print(\"----mylist----\")\n",
    "for item in mylist:\n",
    "    print(item)\n",
    "\n",
    "print(\"----mytuple----\")\n",
    "for item in mytuple:\n",
    "    print(item)\n",
    "\n",
    "print(\"----myset----\")\n",
    "for element in myset:\n",
    "    print(element)\n",
    "\n",
    "print(\"----mycharacter----\")\n",
    "for character in mystring:\n",
    "    print(character)\n",
    "\n",
    "print(\"----mydict(key)----\")\n",
    "for key in mydict:\n",
    "    print(key)\n",
    "\n",
    "print(\"----mydict(key, value)----\")\n",
    "for key, value in mydict.items():\n",
    "    print(key, value)\n",
    "    \n",
    "print(\"---mydict(value)-----\")\n",
    "for value in mydict.values():\n",
    "    print(value)"
   ]
  },
  {
   "cell_type": "code",
   "execution_count": 10,
   "id": "e0ec55eb-54bf-4549-9e30-cc76aec71b47",
   "metadata": {},
   "outputs": [
    {
     "name": "stdout",
     "output_type": "stream",
     "text": [
      "mytuple: (1, 2, 3, 4, 5) mylist: [1, 2, 3, 4, 5]\n"
     ]
    }
   ],
   "source": [
    "myTuple = (1, 2, 3, 4, 5)\n",
    "myList = [1,2,3,4,5]\n",
    "\n",
    "print(\"mytuple:\", myTuple, \"mylist:\", myList)"
   ]
  },
  {
   "cell_type": "code",
   "execution_count": 12,
   "id": "8315ec34-b933-4c88-8f6d-e382b736cf74",
   "metadata": {},
   "outputs": [
    {
     "name": "stdout",
     "output_type": "stream",
     "text": [
      "{0: 'Zero', 1: 'One', 2: 'Two', 3: 'Three', 'Pi': 'ThreePointOneFour'}\n"
     ]
    }
   ],
   "source": [
    "myDict = dict()\n",
    "myDict[0] = \"Zero\"\n",
    "myDict[1] = \"One\"\n",
    "myDict[2] = \"Two\"\n",
    "myDict[3] = \"Three\"\n",
    "myDict[\"Pi\"] = \"ThreePointOneFour\"\n",
    "print(myDict)"
   ]
  },
  {
   "cell_type": "code",
   "execution_count": 13,
   "id": "665c98b8-7787-42a3-a866-be0f59727865",
   "metadata": {},
   "outputs": [
    {
     "data": {
      "text/plain": [
       "'ThreePointOneFour'"
      ]
     },
     "execution_count": 13,
     "metadata": {},
     "output_type": "execute_result"
    }
   ],
   "source": [
    "myDict[\"Pi\"]"
   ]
  },
  {
   "cell_type": "code",
   "execution_count": 15,
   "id": "dc0d4385-80bc-4a70-90ac-b4b2f70cf95f",
   "metadata": {},
   "outputs": [
    {
     "name": "stdout",
     "output_type": "stream",
     "text": [
      "{1, 2, 3, 4, 5}\n"
     ]
    }
   ],
   "source": [
    "#Sets are key pairs, without the value. So, no multiple values per single key entry.\n",
    "mySet = {1, 2, 3, 4, 4, 5}\n",
    "print(mySet)"
   ]
  },
  {
   "cell_type": "code",
   "execution_count": null,
   "id": "96af7236-eed9-4762-9cff-6102760fa4cb",
   "metadata": {},
   "outputs": [],
   "source": []
  }
 ],
 "metadata": {
  "kernelspec": {
   "display_name": "Python 3",
   "language": "python",
   "name": "python3"
  },
  "language_info": {
   "codemirror_mode": {
    "name": "ipython",
    "version": 3
   },
   "file_extension": ".py",
   "mimetype": "text/x-python",
   "name": "python",
   "nbconvert_exporter": "python",
   "pygments_lexer": "ipython3",
   "version": "3.9.5"
  }
 },
 "nbformat": 4,
 "nbformat_minor": 5
}
