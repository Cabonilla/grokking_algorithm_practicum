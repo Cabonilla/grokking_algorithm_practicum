{
 "cells": [
  {
   "cell_type": "code",
   "execution_count": 1,
   "id": "26d339f8-3197-45fe-ab10-ff2eb0030b1d",
   "metadata": {},
   "outputs": [
    {
     "name": "stdout",
     "output_type": "stream",
     "text": [
      "[100, 300, 500, 700, 900, 1100, 1300, 1500, 1700]\n"
     ]
    }
   ],
   "source": [
    "def f001(k):\n",
    "    return [sum([i, i+1] * 100) for i in range(k)]\n",
    "\n",
    "print(f001(9))"
   ]
  },
  {
   "cell_type": "code",
   "execution_count": 3,
   "id": "f2607bfa-8e3f-4a52-ad64-b75a04d5b530",
   "metadata": {},
   "outputs": [],
   "source": [
    "#linear time O(n)\n",
    "def f002(L):\n",
    "    newlist = []\n",
    "    for i in L:\n",
    "        if i%2 == 0:\n",
    "            newlist.append(i)\n",
    "    return newlist"
   ]
  },
  {
   "cell_type": "code",
   "execution_count": 4,
   "id": "8ae559a7-91df-4b7b-8cee-c54d322726a7",
   "metadata": {},
   "outputs": [],
   "source": [
    "#quadratic time 0(n^2)\n",
    "def f003(L):\n",
    "    x = 0\n",
    "    for i in L:\n",
    "        for j in L:\n",
    "            x += i*j\n",
    "    return x"
   ]
  },
  {
   "cell_type": "code",
   "execution_count": 8,
   "id": "ee1572f5-bbbd-48fe-947a-46605123045f",
   "metadata": {},
   "outputs": [],
   "source": [
    "#quadratic time O(n^2)\n",
    "def f004(L):\n",
    "    x = 0\n",
    "    for j in range(1,len(L)):\n",
    "        for i in range(j):\n",
    "            x += L[i] * L[j]\n",
    "    return x"
   ]
  },
  {
   "cell_type": "code",
   "execution_count": null,
   "id": "15cabab0-b675-48a5-94fb-2fec4b166bdb",
   "metadata": {},
   "outputs": [],
   "source": []
  }
 ],
 "metadata": {
  "kernelspec": {
   "display_name": "Python 3",
   "language": "python",
   "name": "python3"
  },
  "language_info": {
   "codemirror_mode": {
    "name": "ipython",
    "version": 3
   },
   "file_extension": ".py",
   "mimetype": "text/x-python",
   "name": "python",
   "nbconvert_exporter": "python",
   "pygments_lexer": "ipython3",
   "version": "3.9.5"
  }
 },
 "nbformat": 4,
 "nbformat_minor": 5
}
