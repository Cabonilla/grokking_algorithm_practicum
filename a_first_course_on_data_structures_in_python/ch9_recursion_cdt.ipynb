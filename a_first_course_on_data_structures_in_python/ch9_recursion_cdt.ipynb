{
 "cells": [
  {
   "cell_type": "code",
   "execution_count": 9,
   "id": "1f87a2c0-fe0a-48b0-bb25-f253d2fd49a9",
   "metadata": {},
   "outputs": [
    {
     "name": "stdout",
     "output_type": "stream",
     "text": [
      "15\n"
     ]
    }
   ],
   "source": [
    "you"
   ]
  },
  {
   "cell_type": "code",
   "execution_count": 16,
   "id": "e31ffd57-1fa6-4c16-9d57-5ceef417cfad",
   "metadata": {},
   "outputs": [
    {
     "name": "stdout",
     "output_type": "stream",
     "text": [
      "[0, 1, 1, 2, 3, 5]\n"
     ]
    }
   ],
   "source": [
    "def fib(k):\n",
    "    if k in [0, 1]: return k\n",
    "    return fib(k-1) + fib(k-2)\n",
    "\n",
    "print([fib(i) for i in range(6)])"
   ]
  },
  {
   "cell_type": "code",
   "execution_count": 6,
   "id": "36925cc6-87ae-46da-b083-5a0608246787",
   "metadata": {},
   "outputs": [
    {
     "name": "stdout",
     "output_type": "stream",
     "text": [
      "[0, 1, 1, 2, 3, 5]\n",
      "[0, 1, 1, 2, 3, 5]\n"
     ]
    }
   ],
   "source": [
    "def fibloop(k):\n",
    "    a, b = 0, 1\n",
    "    for i in range(k):\n",
    "        a, b = b, a + b\n",
    "    return a\n",
    "\n",
    "print([fib(i) for i in range(6)])\n",
    "print([fibloop(i) for i in range(6)])"
   ]
  },
  {
   "cell_type": "code",
   "execution_count": 6,
   "id": "94a9583a-c4d2-4b50-86f4-3e5df89b6663",
   "metadata": {},
   "outputs": [
    {
     "name": "stdout",
     "output_type": "stream",
     "text": [
      "4\n",
      "2\n"
     ]
    }
   ],
   "source": [
    "def gcd(a, b):\n",
    "    if a == b:\n",
    "        return a\n",
    "    if a > b:\n",
    "        a, b = b, a\n",
    "    return gcd(a, b-a)\n",
    "\n",
    "print(gcd(12, 4))\n",
    "print(gcd(10, 4))"
   ]
  },
  {
   "cell_type": "code",
   "execution_count": 8,
   "id": "00d1a69a-5a6b-4d92-844f-dbed3c8f0edf",
   "metadata": {},
   "outputs": [
    {
     "name": "stdout",
     "output_type": "stream",
     "text": [
      "4\n",
      "2\n"
     ]
    }
   ],
   "source": [
    "def gcd(a, b):\n",
    "    if a > b:\n",
    "        a, b = b, a\n",
    "    if a == 0:\n",
    "        return b\n",
    "    return gcd(a, b % a)\n",
    "\n",
    "print(gcd(12, 4))\n",
    "print(gcd(10, 4))"
   ]
  },
  {
   "cell_type": "code",
   "execution_count": null,
   "id": "8205449d-245e-4f2f-821c-011ce149a4f5",
   "metadata": {},
   "outputs": [],
   "source": []
  },
  {
   "cell_type": "code",
   "execution_count": null,
   "id": "0b8d5988-9866-41f0-ab09-d114b62a0af0",
   "metadata": {},
   "outputs": [],
   "source": []
  }
 ],
 "metadata": {
  "kernelspec": {
   "display_name": "Python 3",
   "language": "python",
   "name": "python3"
  },
  "language_info": {
   "codemirror_mode": {
    "name": "ipython",
    "version": 3
   },
   "file_extension": ".py",
   "mimetype": "text/x-python",
   "name": "python",
   "nbconvert_exporter": "python",
   "pygments_lexer": "ipython3",
   "version": "3.9.5"
  }
 },
 "nbformat": 4,
 "nbformat_minor": 5
}
