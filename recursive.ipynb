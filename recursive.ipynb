{
 "cells": [
  {
   "cell_type": "code",
   "execution_count": 2,
   "id": "7e6e94d1-78a2-4f47-a98e-4192b38ee160",
   "metadata": {},
   "outputs": [
    {
     "name": "stdout",
     "output_type": "stream",
     "text": [
      "10\n",
      "9\n",
      "8\n",
      "7\n",
      "6\n",
      "5\n",
      "4\n",
      "3\n",
      "2\n",
      "1\n",
      "0\n"
     ]
    }
   ],
   "source": [
    "def countdown(i):\n",
    "    print(i)\n",
    "    if i <= 0:\n",
    "        return\n",
    "    else:\n",
    "        countdown(i-1)\n",
    "\n",
    "countdown(10)"
   ]
  },
  {
   "cell_type": "code",
   "execution_count": 19,
   "id": "1473d497-c3ca-45b3-ab76-fcc04ee406d1",
   "metadata": {},
   "outputs": [],
   "source": [
    "def summ(arr):\n",
    "    if arr == []:\n",
    "        return 0\n",
    "    return arr[0] + summ(arr[1:])"
   ]
  },
  {
   "cell_type": "code",
   "execution_count": 20,
   "id": "f3e89745-f47e-427f-b0f1-fd3a05d08865",
   "metadata": {},
   "outputs": [
    {
     "data": {
      "text/plain": [
       "6"
      ]
     },
     "execution_count": 20,
     "metadata": {},
     "output_type": "execute_result"
    }
   ],
   "source": [
    "anyarray = [1, 2, 3]\n",
    "\n",
    "summ(anyarray)"
   ]
  },
  {
   "cell_type": "code",
   "execution_count": 17,
   "id": "68cf89db-5f84-4104-ac0a-2fdcd14a9669",
   "metadata": {},
   "outputs": [],
   "source": [
    "def count(list):\n",
    "    if list == []:\n",
    "        return 0\n",
    "    return 1 + count(list[1:])"
   ]
  },
  {
   "cell_type": "code",
   "execution_count": 18,
   "id": "ccbb0316-46f3-4100-bb3b-57e38162ee9d",
   "metadata": {},
   "outputs": [
    {
     "data": {
      "text/plain": [
       "5"
      ]
     },
     "execution_count": 18,
     "metadata": {},
     "output_type": "execute_result"
    }
   ],
   "source": [
    "sumarray = [2, 3, 4, 5, 6]\n",
    "\n",
    "count(sumarray)"
   ]
  },
  {
   "cell_type": "code",
   "execution_count": 21,
   "id": "a213f6ce-a58a-47d7-ae85-78d491ef31fd",
   "metadata": {},
   "outputs": [],
   "source": [
    "def max(list):\n",
    "    if len(list) == 2:\n",
    "        return list[0] if list[0] > list[1] else list[1]\n",
    "    sub_max = max(list[1:])\n",
    "    return list[0] if list[0] > sub_max else sub_max"
   ]
  },
  {
   "cell_type": "code",
   "execution_count": 23,
   "id": "e2cda7cc-4ae3-4e04-86d5-d554cfb5e7ed",
   "metadata": {},
   "outputs": [
    {
     "data": {
      "text/plain": [
       "11"
      ]
     },
     "execution_count": 23,
     "metadata": {},
     "output_type": "execute_result"
    }
   ],
   "source": [
    "sumarray = [1, 2, 3, 4, 10, 11]\n",
    "\n",
    "max(sumarray)"
   ]
  },
  {
   "cell_type": "code",
   "execution_count": null,
   "id": "d461da0c-e436-48dc-89fa-3e973c0a5880",
   "metadata": {},
   "outputs": [],
   "source": []
  }
 ],
 "metadata": {
  "kernelspec": {
   "display_name": "Python 3",
   "language": "python",
   "name": "python3"
  },
  "language_info": {
   "codemirror_mode": {
    "name": "ipython",
    "version": 3
   },
   "file_extension": ".py",
   "mimetype": "text/x-python",
   "name": "python",
   "nbconvert_exporter": "python",
   "pygments_lexer": "ipython3",
   "version": "3.9.5"
  }
 },
 "nbformat": 4,
 "nbformat_minor": 5
}
