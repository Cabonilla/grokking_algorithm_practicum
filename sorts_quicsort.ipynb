{
 "cells": [
  {
   "cell_type": "code",
   "execution_count": 9,
   "id": "2dccdf10-84fb-44f9-b535-93a1004e809c",
   "metadata": {},
   "outputs": [],
   "source": [
    "def quicksort(arr):\n",
    "    if len(arr) < 2:\n",
    "        return arr\n",
    "    else:\n",
    "        pivot = arr[0]\n",
    "        less = [i for i in arr[1:] if i <= pivot]\n",
    "        \n",
    "        greater = [i for i in arr[1:] if i > pivot]\n",
    "        \n",
    "        return quicksort(less) + [pivot] + quicksort(greater)\n",
    "    \n",
    "arr = [10, 5, 3, 7, 8]"
   ]
  },
  {
   "cell_type": "code",
   "execution_count": 10,
   "id": "a3a4892e-cf51-4eb6-8ead-10beeeba3532",
   "metadata": {},
   "outputs": [
    {
     "name": "stdout",
     "output_type": "stream",
     "text": [
      "[3, 5, 7, 8, 10]\n"
     ]
    }
   ],
   "source": [
    "print(quicksort(arr))"
   ]
  },
  {
   "cell_type": "code",
   "execution_count": 12,
   "id": "b628524d-7841-47b3-9f5c-b0101eec7203",
   "metadata": {},
   "outputs": [
    {
     "name": "stdout",
     "output_type": "stream",
     "text": [
      "['a', 'b', 'c', 'd']\n"
     ]
    }
   ],
   "source": [
    "letterarr = [\"b\", \"d\", \"a\", \"c\"]\n",
    "\n",
    "print(quicksort(letterarr))"
   ]
  },
  {
   "cell_type": "code",
   "execution_count": 14,
   "id": "a29f9fee-9121-466a-b1ca-38a18b18a791",
   "metadata": {},
   "outputs": [],
   "source": []
  },
  {
   "cell_type": "code",
   "execution_count": null,
   "id": "68214e4f-8ae2-4895-8ae8-60245268e6bd",
   "metadata": {},
   "outputs": [],
   "source": []
  },
  {
   "cell_type": "code",
   "execution_count": null,
   "id": "c5bece88-0742-40a2-b374-252c4a4def1f",
   "metadata": {},
   "outputs": [],
   "source": []
  }
 ],
 "metadata": {
  "kernelspec": {
   "display_name": "Python 3",
   "language": "python",
   "name": "python3"
  },
  "language_info": {
   "codemirror_mode": {
    "name": "ipython",
    "version": 3
   },
   "file_extension": ".py",
   "mimetype": "text/x-python",
   "name": "python",
   "nbconvert_exporter": "python",
   "pygments_lexer": "ipython3",
   "version": "3.9.5"
  }
 },
 "nbformat": 4,
 "nbformat_minor": 5
}
