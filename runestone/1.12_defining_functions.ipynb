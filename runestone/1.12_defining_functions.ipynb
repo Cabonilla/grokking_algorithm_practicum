{
 "cells": [
  {
   "cell_type": "code",
   "execution_count": 1,
   "id": "0705256d-cdb8-4df1-8deb-8b417afb3f47",
   "metadata": {},
   "outputs": [
    {
     "name": "stdout",
     "output_type": "stream",
     "text": [
      "100\n"
     ]
    }
   ],
   "source": [
    "def square(x):\n",
    "    return x**2\n",
    "\n",
    "print(square(10))"
   ]
  },
  {
   "cell_type": "code",
   "execution_count": 8,
   "id": "7761b3b5-cc70-4812-9958-8ba8a5d26543",
   "metadata": {},
   "outputs": [
    {
     "name": "stdout",
     "output_type": "stream",
     "text": [
      "10.0\n"
     ]
    }
   ],
   "source": [
    "def squareroot(x):\n",
    "    root = x/2\n",
    "    for i in range(20):\n",
    "        root = (1/2)*(root+(x/root))\n",
    "    \n",
    "    return root\n",
    "\n",
    "print(squareroot(100))"
   ]
  },
  {
   "cell_type": "code",
   "execution_count": 11,
   "id": "2a4fc43a-bc51-406c-b9f1-6f336c4f9d0d",
   "metadata": {},
   "outputs": [
    {
     "name": "stdout",
     "output_type": "stream",
     "text": [
      "['m', 'e', 't', 'h', 'i', 'n', 'k', 's', ' ', 'i', 't', ' ', 'i', 's', ' ', 'l', 'i', 'k', 'e', ' ', 'a', ' ', 'w', 'e', 'a', 's', 'e', 'l']\n"
     ]
    }
   ],
   "source": [
    "phrase = \"methinks it is like a weasel\"\n",
    "letters = []\n",
    "\n",
    "for i in phrase:\n",
    "    letters.append(i)\n",
    "    \n",
    "print(letters)"
   ]
  },
  {
   "cell_type": "code",
   "execution_count": 24,
   "id": "32509327-05d5-46b0-b6b6-eabbf31c11ef",
   "metadata": {},
   "outputs": [],
   "source": [
    "#Infinite Monkeys\n",
    "import random\n",
    "\n",
    "#First, we need to create a function to generate a string.\n",
    "def generateString(length):\n",
    "    #Create the base for our random elements. \n",
    "    alphabet = \"abcdefghijklmnopqrstuvwxy \"\n",
    "    #Classic Python, empty repo to fill.\n",
    "    res = \"\"\n",
    "    #Finally, for the input length...\n",
    "    for i in range(length):\n",
    "        #...add random indexes of our base alphabet values. \n",
    "        res = res + alphabet[random.randrange(27)]\n",
    "        \n",
    "    return res"
   ]
  },
  {
   "cell_type": "code",
   "execution_count": 35,
   "id": "2189c1cb-e5df-4079-a382-eb76bee94964",
   "metadata": {},
   "outputs": [
    {
     "name": "stdout",
     "output_type": "stream",
     "text": [
      "ulwbkbqbqievk ddsylyqlbuysjd\n"
     ]
    }
   ],
   "source": [
    "print(generateString(28))"
   ]
  },
  {
   "cell_type": "code",
   "execution_count": 49,
   "id": "6637be9d-c829-4efa-bc6a-36fa4bdb7924",
   "metadata": {},
   "outputs": [],
   "source": [
    "#Comparing the two values.\n",
    "def score(goal,test):\n",
    "    #Empty base.\n",
    "    numSame = 0\n",
    "    #For each value in the string...\n",
    "    for i in range(len(goal)):\n",
    "        #...if the goal matches the test...\n",
    "        if goal[i] == test[i]:\n",
    "            #Add a point to our tally.\n",
    "            numSame = numSame + 1\n",
    "    #Then, return the ratio of similarity. \n",
    "    return numSame / len(goal)"
   ]
  },
  {
   "cell_type": "code",
   "execution_count": 57,
   "id": "594b6554-529a-4197-af90-2010efa44b87",
   "metadata": {},
   "outputs": [
    {
     "name": "stdout",
     "output_type": "stream",
     "text": [
      "0.03571428571428571\n"
     ]
    }
   ],
   "source": [
    "print(score(phrase, generateString(28)))"
   ]
  },
  {
   "cell_type": "code",
   "execution_count": 70,
   "id": "9707f6f8-ea6f-4043-b9e3-50d7abd52f75",
   "metadata": {},
   "outputs": [
    {
     "name": "stdout",
     "output_type": "stream",
     "text": [
      "0.03571428571428571 ydp maqbcnjtmpjyykvuge icniu\n"
     ]
    },
    {
     "ename": "IndexError",
     "evalue": "string index out of range",
     "output_type": "error",
     "traceback": [
      "\u001b[1;31m---------------------------------------------------------------------------\u001b[0m",
      "\u001b[1;31mIndexError\u001b[0m                                Traceback (most recent call last)",
      "\u001b[1;32m~\\AppData\\Local\\Temp/ipykernel_4760/3938653568.py\u001b[0m in \u001b[0;36m<module>\u001b[1;34m\u001b[0m\n\u001b[0;32m     10\u001b[0m         \u001b[0mnewScore\u001b[0m \u001b[1;33m=\u001b[0m \u001b[0mscore\u001b[0m\u001b[1;33m(\u001b[0m\u001b[0mphrase\u001b[0m\u001b[1;33m,\u001b[0m \u001b[0mnewString\u001b[0m\u001b[1;33m)\u001b[0m\u001b[1;33m\u001b[0m\u001b[1;33m\u001b[0m\u001b[0m\n\u001b[0;32m     11\u001b[0m \u001b[1;33m\u001b[0m\u001b[0m\n\u001b[1;32m---> 12\u001b[1;33m \u001b[0mmain\u001b[0m\u001b[1;33m(\u001b[0m\u001b[1;33m)\u001b[0m\u001b[1;33m\u001b[0m\u001b[1;33m\u001b[0m\u001b[0m\n\u001b[0m",
      "\u001b[1;32m~\\AppData\\Local\\Temp/ipykernel_4760/3938653568.py\u001b[0m in \u001b[0;36mmain\u001b[1;34m()\u001b[0m\n\u001b[0;32m      7\u001b[0m             \u001b[0mprint\u001b[0m\u001b[1;33m(\u001b[0m\u001b[0mnewScore\u001b[0m\u001b[1;33m,\u001b[0m \u001b[0mnewString\u001b[0m\u001b[1;33m)\u001b[0m\u001b[1;33m\u001b[0m\u001b[1;33m\u001b[0m\u001b[0m\n\u001b[0;32m      8\u001b[0m             \u001b[0mbest\u001b[0m \u001b[1;33m=\u001b[0m \u001b[0mnewScore\u001b[0m\u001b[1;33m\u001b[0m\u001b[1;33m\u001b[0m\u001b[0m\n\u001b[1;32m----> 9\u001b[1;33m         \u001b[0mnewString\u001b[0m \u001b[1;33m=\u001b[0m \u001b[0mgenerateString\u001b[0m\u001b[1;33m(\u001b[0m\u001b[1;36m28\u001b[0m\u001b[1;33m)\u001b[0m\u001b[1;33m\u001b[0m\u001b[1;33m\u001b[0m\u001b[0m\n\u001b[0m\u001b[0;32m     10\u001b[0m         \u001b[0mnewScore\u001b[0m \u001b[1;33m=\u001b[0m \u001b[0mscore\u001b[0m\u001b[1;33m(\u001b[0m\u001b[0mphrase\u001b[0m\u001b[1;33m,\u001b[0m \u001b[0mnewString\u001b[0m\u001b[1;33m)\u001b[0m\u001b[1;33m\u001b[0m\u001b[1;33m\u001b[0m\u001b[0m\n\u001b[0;32m     11\u001b[0m \u001b[1;33m\u001b[0m\u001b[0m\n",
      "\u001b[1;32m~\\AppData\\Local\\Temp/ipykernel_4760/1790993451.py\u001b[0m in \u001b[0;36mgenerateString\u001b[1;34m(length)\u001b[0m\n\u001b[0;32m     11\u001b[0m     \u001b[1;32mfor\u001b[0m \u001b[0mi\u001b[0m \u001b[1;32min\u001b[0m \u001b[0mrange\u001b[0m\u001b[1;33m(\u001b[0m\u001b[0mlength\u001b[0m\u001b[1;33m)\u001b[0m\u001b[1;33m:\u001b[0m\u001b[1;33m\u001b[0m\u001b[1;33m\u001b[0m\u001b[0m\n\u001b[0;32m     12\u001b[0m         \u001b[1;31m#...add random indexes of our base alphabet values.\u001b[0m\u001b[1;33m\u001b[0m\u001b[1;33m\u001b[0m\u001b[1;33m\u001b[0m\u001b[0m\n\u001b[1;32m---> 13\u001b[1;33m         \u001b[0mres\u001b[0m \u001b[1;33m=\u001b[0m \u001b[0mres\u001b[0m \u001b[1;33m+\u001b[0m \u001b[0malphabet\u001b[0m\u001b[1;33m[\u001b[0m\u001b[0mrandom\u001b[0m\u001b[1;33m.\u001b[0m\u001b[0mrandrange\u001b[0m\u001b[1;33m(\u001b[0m\u001b[1;36m27\u001b[0m\u001b[1;33m)\u001b[0m\u001b[1;33m]\u001b[0m\u001b[1;33m\u001b[0m\u001b[1;33m\u001b[0m\u001b[0m\n\u001b[0m\u001b[0;32m     14\u001b[0m \u001b[1;33m\u001b[0m\u001b[0m\n\u001b[0;32m     15\u001b[0m     \u001b[1;32mreturn\u001b[0m \u001b[0mres\u001b[0m\u001b[1;33m\u001b[0m\u001b[1;33m\u001b[0m\u001b[0m\n",
      "\u001b[1;31mIndexError\u001b[0m: string index out of range"
     ]
    }
   ],
   "source": [
    "def main():\n",
    "    newString = generateString(28)\n",
    "    best = 0\n",
    "    newScore = score(phrase,newString)\n",
    "    while newScore < 1:\n",
    "        if newScore > best:\n",
    "            print(newScore, newString)\n",
    "            best = newScore\n",
    "        newString = generateString(28)\n",
    "        newScore = score(phrase, newString)\n",
    "        \n",
    "main()"
   ]
  },
  {
   "cell_type": "code",
   "execution_count": null,
   "id": "02c5bbf8-874a-4449-958f-b6025d35c38b",
   "metadata": {},
   "outputs": [],
   "source": []
  }
 ],
 "metadata": {
  "kernelspec": {
   "display_name": "Python 3 (ipykernel)",
   "language": "python",
   "name": "python3"
  },
  "language_info": {
   "codemirror_mode": {
    "name": "ipython",
    "version": 3
   },
   "file_extension": ".py",
   "mimetype": "text/x-python",
   "name": "python",
   "nbconvert_exporter": "python",
   "pygments_lexer": "ipython3",
   "version": "3.9.5"
  }
 },
 "nbformat": 4,
 "nbformat_minor": 5
}
