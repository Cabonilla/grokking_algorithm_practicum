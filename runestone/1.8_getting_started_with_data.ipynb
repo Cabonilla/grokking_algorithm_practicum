{
 "cells": [
  {
   "cell_type": "code",
   "execution_count": 1,
   "id": "15a6f8fd-8709-490c-8fa8-0d70998e2b80",
   "metadata": {},
   "outputs": [],
   "source": [
    "from tabulate import tabulate"
   ]
  },
  {
   "cell_type": "code",
   "execution_count": 31,
   "id": "a3a597c0-2b4b-4b65-9b4d-fc5796497f05",
   "metadata": {},
   "outputs": [
    {
     "name": "stdout",
     "output_type": "stream",
     "text": [
      "[0, 1, 2, 3, 4, 5]\n",
      "6\n",
      "[0, 1, 2, 3]\n"
     ]
    }
   ],
   "source": [
    "#Some list practice.\n",
    "arr = [0, 1, 2, 3, 4, 5]\n",
    "\n",
    "print(arr)\n",
    "print(len(arr))\n",
    "print(arr[:4])"
   ]
  },
  {
   "cell_type": "code",
   "execution_count": 24,
   "id": "68bc67ad-ef0e-4957-baf9-a9516952edd8",
   "metadata": {},
   "outputs": [
    {
     "name": "stdout",
     "output_type": "stream",
     "text": [
      "[0, 1, 2, 3, 4, 5, 0, 1, 2, 3, 4, 5]\n"
     ]
    }
   ],
   "source": [
    "print(arr*2)"
   ]
  },
  {
   "cell_type": "code",
   "execution_count": 25,
   "id": "e1d32196-66e5-4617-a231-1d6a589fb726",
   "metadata": {},
   "outputs": [
    {
     "name": "stdout",
     "output_type": "stream",
     "text": [
      "[0, 1, 2, 3, 4, 5, 6]\n"
     ]
    }
   ],
   "source": [
    "arr.append(6)\n",
    "print(arr)"
   ]
  },
  {
   "cell_type": "code",
   "execution_count": 26,
   "id": "48783840-2fd4-44ea-beec-9527720a285f",
   "metadata": {},
   "outputs": [
    {
     "name": "stdout",
     "output_type": "stream",
     "text": [
      "[0, 1, 1.5, 2, 3, 4, 5, 6]\n"
     ]
    }
   ],
   "source": [
    "arr.insert(2, 1.5)\n",
    "print(arr)"
   ]
  },
  {
   "cell_type": "code",
   "execution_count": 27,
   "id": "c53f6231-4a36-4e7e-9025-00e8e4481131",
   "metadata": {},
   "outputs": [
    {
     "name": "stdout",
     "output_type": "stream",
     "text": [
      "[0, 1, 2, 3, 4, 5]\n"
     ]
    }
   ],
   "source": [
    "arr.pop()\n",
    "arr.pop(2)\n",
    "print(arr)"
   ]
  },
  {
   "cell_type": "code",
   "execution_count": 73,
   "id": "3a83dd61-bf8f-4200-bc4a-d92aac44fe2e",
   "metadata": {},
   "outputs": [
    {
     "name": "stdout",
     "output_type": "stream",
     "text": [
      "[1, 5, 3, 2, 4, 0]\n",
      "0\n",
      "1\n",
      "2\n",
      "3\n",
      "4\n",
      "5\n"
     ]
    }
   ],
   "source": [
    "bad_arr = [1, 5, 3, 2, 4, 0]\n",
    "print(bad_arr)\n",
    "print(bad_arr[5])\n",
    "print(bad_arr[0])\n",
    "print(bad_arr[3])\n",
    "print(bad_arr[2])\n",
    "print(bad_arr[4])\n",
    "print(bad_arr[1])"
   ]
  },
  {
   "cell_type": "code",
   "execution_count": 74,
   "id": "230d93a7-69bb-462c-aa2f-6f51989c78fb",
   "metadata": {},
   "outputs": [
    {
     "name": "stdout",
     "output_type": "stream",
     "text": [
      "[0, 1, 2, 3, 4, 5]\n"
     ]
    }
   ],
   "source": [
    "bad_arr.sort()\n",
    "print(bad_arr)"
   ]
  },
  {
   "cell_type": "code",
   "execution_count": 75,
   "id": "e571304d-23a0-4857-9f50-f2e7efd37943",
   "metadata": {},
   "outputs": [
    {
     "name": "stdout",
     "output_type": "stream",
     "text": [
      "[5, 4, 3, 2, 1, 0]\n"
     ]
    }
   ],
   "source": [
    "bad_arr.reverse()\n",
    "print(bad_arr)"
   ]
  },
  {
   "cell_type": "code",
   "execution_count": 76,
   "id": "3a673718-4584-4652-9329-73557a5755b6",
   "metadata": {},
   "outputs": [
    {
     "name": "stdout",
     "output_type": "stream",
     "text": [
      "[5, 4, 3, 2, 1]\n"
     ]
    }
   ],
   "source": [
    "del bad_arr[5]\n",
    "print(bad_arr)"
   ]
  },
  {
   "cell_type": "code",
   "execution_count": 77,
   "id": "724caa8f-2ee9-45f7-817e-e8a5afcf1a89",
   "metadata": {},
   "outputs": [
    {
     "name": "stdout",
     "output_type": "stream",
     "text": [
      "2\n",
      "1\n",
      "[4, 3, 2, 1]\n"
     ]
    }
   ],
   "source": [
    "print(bad_arr.index(3))\n",
    "print(bad_arr.count(4))\n",
    "bad_arr.remove(5)\n",
    "print(bad_arr)"
   ]
  },
  {
   "cell_type": "code",
   "execution_count": 78,
   "id": "9f481eeb-ca31-43ae-9fa6-ce7cecbe00b6",
   "metadata": {},
   "outputs": [
    {
     "data": {
      "text/plain": [
       "24"
      ]
     },
     "execution_count": 78,
     "metadata": {},
     "output_type": "execute_result"
    }
   ],
   "source": [
    "(12).__add__(12)"
   ]
  },
  {
   "cell_type": "code",
   "execution_count": 89,
   "id": "db2c4cd2-7cb9-4cb2-81d5-78e1043c6807",
   "metadata": {},
   "outputs": [
    {
     "name": "stdout",
     "output_type": "stream",
     "text": [
      "range(0, 11)\n"
     ]
    },
    {
     "data": {
      "text/plain": [
       "[0, 1, 2, 3, 4, 5, 6, 7, 8, 9, 10]"
      ]
     },
     "execution_count": 89,
     "metadata": {},
     "output_type": "execute_result"
    }
   ],
   "source": [
    "range_arr = range(11)\n",
    "print(range_arr)\n",
    "list(range_arr)"
   ]
  },
  {
   "cell_type": "code",
   "execution_count": 96,
   "id": "8ad273df-2bb4-4293-8c3b-ff980ca367e2",
   "metadata": {},
   "outputs": [
    {
     "data": {
      "text/plain": [
       "[0, 2, 4, 6, 8]"
      ]
     },
     "execution_count": 96,
     "metadata": {},
     "output_type": "execute_result"
    }
   ],
   "source": [
    "# The one below lists a range of 0 - 10, skipping by two and printing even numbers. \n",
    "# Start it at one, and you'll get odd numbers. \n",
    "list(range(0, 10, 2))\n",
    "# list(range(1, 10, 2))"
   ]
  },
  {
   "cell_type": "code",
   "execution_count": 99,
   "id": "95a35e6d-02e6-4f5a-aafe-a9608532e89c",
   "metadata": {},
   "outputs": [
    {
     "data": {
      "text/plain": [
       "[10, 9, 8, 7, 6, 5, 4, 3, 2, 1]"
      ]
     },
     "execution_count": 99,
     "metadata": {},
     "output_type": "execute_result"
    }
   ],
   "source": [
    "#Reverse range requires big > small, else it's empty. \n",
    "list(range(10, 0, -1))"
   ]
  },
  {
   "cell_type": "code",
   "execution_count": 39,
   "id": "fb91951b-016b-404b-97b2-3a70933ea28c",
   "metadata": {},
   "outputs": [
    {
     "name": "stdout",
     "output_type": "stream",
     "text": [
      "Hello, Laverne.\n"
     ]
    }
   ],
   "source": [
    "#Some of these methods also work with strings, as they're considered collections. \n",
    "myString = \"Hello, Laverne.\"\n",
    "print(myString)"
   ]
  },
  {
   "cell_type": "code",
   "execution_count": 101,
   "id": "34963d9b-9115-425d-abcd-cd003bf0359b",
   "metadata": {},
   "outputs": [
    {
     "data": {
      "text/plain": [
       "2"
      ]
     },
     "execution_count": 101,
     "metadata": {},
     "output_type": "execute_result"
    }
   ],
   "source": [
    "myString.count(\"l\")\n"
   ]
  },
  {
   "cell_type": "code",
   "execution_count": 104,
   "id": "3bef7858-e529-4df3-8f78-3f77f3280189",
   "metadata": {},
   "outputs": [
    {
     "data": {
      "text/plain": [
       "1"
      ]
     },
     "execution_count": 104,
     "metadata": {},
     "output_type": "execute_result"
    }
   ],
   "source": [
    "myString.index(\"e\")"
   ]
  },
  {
   "cell_type": "code",
   "execution_count": 112,
   "id": "cc73663c-0850-4587-acfd-10241aa60540",
   "metadata": {},
   "outputs": [
    {
     "data": {
      "text/plain": [
       "'HELLO, LAVERNE.'"
      ]
     },
     "execution_count": 112,
     "metadata": {},
     "output_type": "execute_result"
    }
   ],
   "source": [
    "myString.upper()"
   ]
  },
  {
   "cell_type": "code",
   "execution_count": 113,
   "id": "77304608-a90b-4037-80a7-5f16d9b0148b",
   "metadata": {},
   "outputs": [
    {
     "data": {
      "text/plain": [
       "'  Hello, Laverne.   '"
      ]
     },
     "execution_count": 113,
     "metadata": {},
     "output_type": "execute_result"
    }
   ],
   "source": [
    "myString.center(20)"
   ]
  },
  {
   "cell_type": "code",
   "execution_count": 114,
   "id": "d3d12112-0410-45a1-a6ee-7983a0fedb04",
   "metadata": {},
   "outputs": [
    {
     "data": {
      "text/plain": [
       "2"
      ]
     },
     "execution_count": 114,
     "metadata": {},
     "output_type": "execute_result"
    }
   ],
   "source": [
    "myString.find(\"l\")"
   ]
  },
  {
   "cell_type": "code",
   "execution_count": 115,
   "id": "e8340efa-a9f3-4605-ba9d-cffc51a27b48",
   "metadata": {
    "tags": []
   },
   "outputs": [
    {
     "data": {
      "text/plain": [
       "['Hello,', 'Laverne.']"
      ]
     },
     "execution_count": 115,
     "metadata": {},
     "output_type": "execute_result"
    }
   ],
   "source": [
    "myString.split(\" \")"
   ]
  },
  {
   "cell_type": "code",
   "execution_count": 61,
   "id": "4cba52f5-2bbd-4ba1-a770-5d507a5c7ebd",
   "metadata": {},
   "outputs": [
    {
     "name": "stdout",
     "output_type": "stream",
     "text": [
      "Hello, Laverne.     \n",
      "     Hello, Laverne.\n",
      "1\n"
     ]
    }
   ],
   "source": [
    "print(myString.ljust(20))\n",
    "print(myString.rjust(20))\n",
    "print(myString.find(\"e\"))"
   ]
  },
  {
   "cell_type": "code",
   "execution_count": 9,
   "id": "299fb538-6cee-4361-a9a1-991b93ca6379",
   "metadata": {},
   "outputs": [
    {
     "name": "stdout",
     "output_type": "stream",
     "text": [
      "-----------  --------------------  --------------------------------------------------\n",
      "Method Name  Use                   Explanation\n",
      "append       alist.append(item)    Adds a new item to the end of a list.\n",
      "insert       alist.insert(i,item)  Inserts an item at the ith position in a list.\n",
      "pop          alist.pop()           Removes and returns the last item in a list.\n",
      "pop          alist.pop(i)          Removes and returns the ith item in a list.\n",
      "sort         alist.sort()          Modifies a list to be sorted.\n",
      "reverse      alist.reverse()       Modifies a list to be in reverse order.\n",
      "del          del alist[i]          Deletes the item in the ith position.\n",
      "index        alist.index(item)     Returns the index of the first occurrence of item.\n",
      "count        alist.count(item)     Returns the number of occurrences of item.\n",
      "remove       alist.remove(item)    Removes the first occurrence of item.\n",
      "-----------  --------------------  --------------------------------------------------\n"
     ]
    }
   ],
   "source": [
    "table = [['Method Name', 'Use', 'Explanation'], [\"append\", \"alist.append(item)\", \"Adds a new item to the end of a list.\"], [\"insert\", \"alist.insert(i,item)\", \"Inserts an item at the ith position in a list.\"], [\"pop\", \"alist.pop()\", \"Removes and returns the last item in a list.\"], [\"pop\", \"alist.pop(i)\", \"Removes and returns the ith item in a list.\"], [\"sort\", \"alist.sort()\", \"Modifies a list to be sorted.\"], [\"reverse\", \"alist.reverse()\", \"Modifies a list to be in reverse order.\"], [\"del\", \"del alist[i]\", \"Deletes the item in the ith position.\"], [\"index\", \"alist.index(item)\", \"Returns the index of the first occurrence of item.\"], [\"count\", \"alist.count(item)\", \"Returns the number of occurrences of item.\"], [\"remove\", \"alist.remove(item)\", \"Removes the first occurrence of item.\"]]\n",
    "\n",
    "print(tabulate(table))"
   ]
  },
  {
   "cell_type": "code",
   "execution_count": 22,
   "id": "a78ab0aa-ba9f-40a4-af03-4fec569e2bde",
   "metadata": {},
   "outputs": [],
   "source": [
    "#Some sets practice. \n",
    "\n",
    "myLand = {\"This\", \"land\", \"is\", \"my\", \"land.\"}\n",
    "yourLand = {\"This\", \"land\", \"is\", \"your\", \"land.\"}"
   ]
  },
  {
   "cell_type": "code",
   "execution_count": 21,
   "id": "6831f04d-f569-458c-b37e-771f4b3db536",
   "metadata": {},
   "outputs": [
    {
     "data": {
      "text/plain": [
       "{'This', 'is', 'land', 'land.', 'my', 'your'}"
      ]
     },
     "execution_count": 21,
     "metadata": {},
     "output_type": "execute_result"
    }
   ],
   "source": [
    "myLand.union(yourLand)\n",
    "myLand | yourLand"
   ]
  },
  {
   "cell_type": "code",
   "execution_count": 14,
   "id": "d4a96866-620d-49c9-8e9e-42c01a9f82b5",
   "metadata": {},
   "outputs": [
    {
     "data": {
      "text/plain": [
       "{'This', 'is', 'land', 'land.'}"
      ]
     },
     "execution_count": 14,
     "metadata": {},
     "output_type": "execute_result"
    }
   ],
   "source": [
    "myLand.intersection(yourLand)"
   ]
  },
  {
   "cell_type": "code",
   "execution_count": 15,
   "id": "b9a8e3ff-fe39-4c26-94e7-f17c8556b4eb",
   "metadata": {},
   "outputs": [
    {
     "data": {
      "text/plain": [
       "{'my'}"
      ]
     },
     "execution_count": 15,
     "metadata": {},
     "output_type": "execute_result"
    }
   ],
   "source": [
    "myLand.difference(yourLand)"
   ]
  },
  {
   "cell_type": "code",
   "execution_count": 27,
   "id": "37b3a481-fa85-4ab1-873c-0079152b2ce6",
   "metadata": {},
   "outputs": [
    {
     "data": {
      "text/plain": [
       "True"
      ]
     },
     "execution_count": 27,
     "metadata": {},
     "output_type": "execute_result"
    }
   ],
   "source": [
    "{\"my\"}.issubset(myLand)"
   ]
  },
  {
   "cell_type": "code",
   "execution_count": 31,
   "id": "106b099c-e34e-4ef4-ac56-6e2d307bb9a0",
   "metadata": {},
   "outputs": [],
   "source": [
    "myLand.add(1)"
   ]
  },
  {
   "cell_type": "code",
   "execution_count": 32,
   "id": "10560611-8c1f-4119-9fc6-d6d434038b0f",
   "metadata": {},
   "outputs": [
    {
     "data": {
      "text/plain": [
       "{1, 'This', 'is', 'land', 'land.', 'my'}"
      ]
     },
     "execution_count": 32,
     "metadata": {},
     "output_type": "execute_result"
    }
   ],
   "source": [
    "myLand"
   ]
  },
  {
   "cell_type": "code",
   "execution_count": 35,
   "id": "36df91fc-3615-4ae4-989d-6868216b364a",
   "metadata": {},
   "outputs": [
    {
     "data": {
      "text/plain": [
       "'This'"
      ]
     },
     "execution_count": 35,
     "metadata": {},
     "output_type": "execute_result"
    }
   ],
   "source": [
    "myLand.pop()"
   ]
  },
  {
   "cell_type": "code",
   "execution_count": 36,
   "id": "71304200-e1b8-4e64-b9e4-1df1566b4e7d",
   "metadata": {},
   "outputs": [
    {
     "data": {
      "text/plain": [
       "{1, 'is', 'land', 'land.', 'my'}"
      ]
     },
     "execution_count": 36,
     "metadata": {},
     "output_type": "execute_result"
    }
   ],
   "source": [
    "myLand"
   ]
  },
  {
   "cell_type": "code",
   "execution_count": 49,
   "id": "3286dd3d-cc4b-42e4-ad6a-b4c26473a450",
   "metadata": {},
   "outputs": [
    {
     "name": "stdout",
     "output_type": "stream",
     "text": [
      "{'Laverne': 32, 'Squiggy': 23, 'Shirley': 42}\n"
     ]
    }
   ],
   "source": [
    "#Some dictionary practice.\n",
    "cast = {\"Laverne\":32, \"Squiggy\":23, \"Shirley\":42}\n",
    "print(cast)"
   ]
  },
  {
   "cell_type": "code",
   "execution_count": 50,
   "id": "70e620ad-4994-43ad-b178-5f77d9ea5b82",
   "metadata": {},
   "outputs": [
    {
     "name": "stdout",
     "output_type": "stream",
     "text": [
      "{'Laverne': 32, 'Squiggy': 23, 'Shirley': 42, \"Squiggy's Friend\": 26}\n"
     ]
    }
   ],
   "source": [
    "cast[\"Squiggy's Friend\"] = 26\n",
    "print(cast)"
   ]
  },
  {
   "cell_type": "code",
   "execution_count": 57,
   "id": "14486820-55e2-4220-be08-a62697eb1b03",
   "metadata": {},
   "outputs": [
    {
     "name": "stdout",
     "output_type": "stream",
     "text": [
      "Laverne was on Laverne and Shirley, and was 32 years old.\n",
      "Squiggy was on Laverne and Shirley, and was 23 years old.\n",
      "Shirley was on Laverne and Shirley, and was 42 years old.\n",
      "Squiggy's Friend was on Laverne and Shirley, and was 26 years old.\n"
     ]
    }
   ],
   "source": [
    "for k in cast:\n",
    "    print(k,\"was on Laverne and Shirley, and was\",cast[k],\"years old.\")"
   ]
  },
  {
   "cell_type": "code",
   "execution_count": 60,
   "id": "b3940229-9f05-4c05-8134-397bb78eba31",
   "metadata": {},
   "outputs": [
    {
     "name": "stdout",
     "output_type": "stream",
     "text": [
      "dict_keys(['Laverne', 'Squiggy', 'Shirley', \"Squiggy's Friend\"])\n",
      "dict_values([32, 23, 42, 26])\n",
      "dict_items([('Laverne', 32), ('Squiggy', 23), ('Shirley', 42), (\"Squiggy's Friend\", 26)])\n"
     ]
    }
   ],
   "source": [
    "print(cast.keys())\n",
    "print(cast.values())\n",
    "print(cast.items())"
   ]
  },
  {
   "cell_type": "code",
   "execution_count": 65,
   "id": "ba996d18-7da5-42f5-85a4-6ba4087542c2",
   "metadata": {},
   "outputs": [
    {
     "name": "stdout",
     "output_type": "stream",
     "text": [
      "Laverne is 42 years old.\n"
     ]
    }
   ],
   "source": [
    "aString = \"Laverne\"\n",
    "anAge = 42\n",
    "print(aString, \"is\", anAge, \"years old.\")"
   ]
  },
  {
   "cell_type": "code",
   "execution_count": 69,
   "id": "40897ea6-507d-436f-a018-65dfc6031450",
   "metadata": {},
   "outputs": [
    {
     "name": "stdout",
     "output_type": "stream",
     "text": [
      "Laverne is 42 years old.\n"
     ]
    }
   ],
   "source": [
    "print(\"%s is %d years old.\" % (aString, anAge))"
   ]
  },
  {
   "cell_type": "code",
   "execution_count": null,
   "id": "ea7b9daa-baa3-43f9-a220-48b85fe45a0e",
   "metadata": {},
   "outputs": [],
   "source": []
  }
 ],
 "metadata": {
  "kernelspec": {
   "display_name": "Python 3 (ipykernel)",
   "language": "python",
   "name": "python3"
  },
  "language_info": {
   "codemirror_mode": {
    "name": "ipython",
    "version": 3
   },
   "file_extension": ".py",
   "mimetype": "text/x-python",
   "name": "python",
   "nbconvert_exporter": "python",
   "pygments_lexer": "ipython3",
   "version": "3.9.5"
  }
 },
 "nbformat": 4,
 "nbformat_minor": 5
}
