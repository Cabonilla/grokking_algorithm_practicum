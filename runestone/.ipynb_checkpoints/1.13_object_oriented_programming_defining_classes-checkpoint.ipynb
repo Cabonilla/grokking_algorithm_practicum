{
 "cells": [
  {
   "cell_type": "code",
   "execution_count": 29,
   "id": "5529407b-7541-4b49-9b6f-608740e228d2",
   "metadata": {},
   "outputs": [
    {
     "name": "stdout",
     "output_type": "stream",
     "text": [
      "10\n"
     ]
    }
   ],
   "source": [
    "def gcd(m, n):\n",
    "    while m%n != 0:\n",
    "        oldm = m\n",
    "        oldn = n\n",
    "        \n",
    "        m = oldn\n",
    "        n = oldm%oldn\n",
    "    return n\n",
    "\n",
    "print(gcd(20,10))"
   ]
  },
  {
   "cell_type": "code",
   "execution_count": 30,
   "id": "899ff3f6-a7a5-4e05-85c6-3b4f2d3f9364",
   "metadata": {},
   "outputs": [
    {
     "name": "stdout",
     "output_type": "stream",
     "text": [
      "1/2 1/3\n",
      "5/6\n"
     ]
    }
   ],
   "source": [
    "class Fraction: \n",
    "    def __init__(self, top, bottom):\n",
    "        self.num = top\n",
    "        self.den = bottom\n",
    "        \n",
    "#     def show(self):\n",
    "#         print(self.num,\"/\",self.den)\n",
    "\n",
    "    def __str__(self):\n",
    "        return str(self.num)+\"/\"+str(self.den)\n",
    "    \n",
    "    #Python allows for overriding the addition element. 2.__add__(2)\n",
    "    def __add__(self, other):\n",
    "        newnum = self.num * other.den + self.den * other.num\n",
    "        newden = self.den * other.den\n",
    "        common = gcd(newnum, newden)\n",
    "        return Fraction(newnum//common, newden//common)\n",
    "    \n",
    "    def __eq__(self,other):\n",
    "        firstnum = self.num * other.den\n",
    "        secondnum = other.num * self.den\n",
    "        return firstnum == secondnum\n",
    "        \n",
    "        \n",
    "aFraction = Fraction(1,2)\n",
    "otherFraction = Fraction(1,3)\n",
    "print(aFraction, otherFraction)\n",
    "thirdFraction = aFraction + otherFraction\n",
    "print(thirdFraction)"
   ]
  },
  {
   "cell_type": "code",
   "execution_count": 15,
   "id": "1c9eac93-ead2-44b3-8ba0-7a884390f001",
   "metadata": {},
   "outputs": [
    {
     "data": {
      "text/plain": [
       "4"
      ]
     },
     "execution_count": 15,
     "metadata": {},
     "output_type": "execute_result"
    }
   ],
   "source": [
    "#This is the 'naked' addition method. Everything is an object.\n",
    "two = 2\n",
    "two.__add__(two)"
   ]
  },
  {
   "cell_type": "code",
   "execution_count": 28,
   "id": "496a2876-a1f9-482b-a43e-fd7e8eebed34",
   "metadata": {},
   "outputs": [
    {
     "name": "stdout",
     "output_type": "stream",
     "text": [
      "10\n"
     ]
    }
   ],
   "source": []
  },
  {
   "cell_type": "code",
   "execution_count": null,
   "id": "73db1760-289e-4c8c-ac2f-f529d41c7060",
   "metadata": {},
   "outputs": [],
   "source": []
  }
 ],
 "metadata": {
  "kernelspec": {
   "display_name": "Python 3 (ipykernel)",
   "language": "python",
   "name": "python3"
  },
  "language_info": {
   "codemirror_mode": {
    "name": "ipython",
    "version": 3
   },
   "file_extension": ".py",
   "mimetype": "text/x-python",
   "name": "python",
   "nbconvert_exporter": "python",
   "pygments_lexer": "ipython3",
   "version": "3.9.5"
  }
 },
 "nbformat": 4,
 "nbformat_minor": 5
}
