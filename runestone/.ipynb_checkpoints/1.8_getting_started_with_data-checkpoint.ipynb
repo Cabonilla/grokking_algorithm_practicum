{
 "cells": [
  {
   "cell_type": "code",
   "execution_count": 31,
   "id": "a3a597c0-2b4b-4b65-9b4d-fc5796497f05",
   "metadata": {},
   "outputs": [
    {
     "name": "stdout",
     "output_type": "stream",
     "text": [
      "[0, 1, 2, 3, 4, 5]\n",
      "6\n",
      "[0, 1, 2, 3]\n"
     ]
    }
   ],
   "source": [
    "arr = [0, 1, 2, 3, 4, 5]\n",
    "\n",
    "print(arr)\n",
    "print(len(arr))\n",
    "print(arr[:4])"
   ]
  },
  {
   "cell_type": "code",
   "execution_count": 24,
   "id": "68bc67ad-ef0e-4957-baf9-a9516952edd8",
   "metadata": {},
   "outputs": [
    {
     "name": "stdout",
     "output_type": "stream",
     "text": [
      "[0, 1, 2, 3, 4, 5, 0, 1, 2, 3, 4, 5]\n"
     ]
    }
   ],
   "source": [
    "print(arr*2)"
   ]
  },
  {
   "cell_type": "code",
   "execution_count": 25,
   "id": "e1d32196-66e5-4617-a231-1d6a589fb726",
   "metadata": {},
   "outputs": [
    {
     "name": "stdout",
     "output_type": "stream",
     "text": [
      "[0, 1, 2, 3, 4, 5, 6]\n"
     ]
    }
   ],
   "source": [
    "arr.append(6)\n",
    "print(arr)"
   ]
  },
  {
   "cell_type": "code",
   "execution_count": 26,
   "id": "48783840-2fd4-44ea-beec-9527720a285f",
   "metadata": {},
   "outputs": [
    {
     "name": "stdout",
     "output_type": "stream",
     "text": [
      "[0, 1, 1.5, 2, 3, 4, 5, 6]\n"
     ]
    }
   ],
   "source": [
    "arr.insert(2, 1.5)\n",
    "print(arr)"
   ]
  },
  {
   "cell_type": "code",
   "execution_count": 27,
   "id": "c53f6231-4a36-4e7e-9025-00e8e4481131",
   "metadata": {},
   "outputs": [
    {
     "name": "stdout",
     "output_type": "stream",
     "text": [
      "[0, 1, 2, 3, 4, 5]\n"
     ]
    }
   ],
   "source": [
    "arr.pop()\n",
    "arr.pop(2)\n",
    "print(arr)"
   ]
  },
  {
   "cell_type": "code",
   "execution_count": 73,
   "id": "3a83dd61-bf8f-4200-bc4a-d92aac44fe2e",
   "metadata": {},
   "outputs": [
    {
     "name": "stdout",
     "output_type": "stream",
     "text": [
      "[1, 5, 3, 2, 4, 0]\n",
      "0\n",
      "1\n",
      "2\n",
      "3\n",
      "4\n",
      "5\n"
     ]
    }
   ],
   "source": [
    "bad_arr = [1, 5, 3, 2, 4, 0]\n",
    "print(bad_arr)\n",
    "print(bad_arr[5])\n",
    "print(bad_arr[0])\n",
    "print(bad_arr[3])\n",
    "print(bad_arr[2])\n",
    "print(bad_arr[4])\n",
    "print(bad_arr[1])"
   ]
  },
  {
   "cell_type": "code",
   "execution_count": 74,
   "id": "230d93a7-69bb-462c-aa2f-6f51989c78fb",
   "metadata": {},
   "outputs": [
    {
     "name": "stdout",
     "output_type": "stream",
     "text": [
      "[0, 1, 2, 3, 4, 5]\n"
     ]
    }
   ],
   "source": [
    "bad_arr.sort()\n",
    "print(bad_arr)"
   ]
  },
  {
   "cell_type": "code",
   "execution_count": 75,
   "id": "e571304d-23a0-4857-9f50-f2e7efd37943",
   "metadata": {},
   "outputs": [
    {
     "name": "stdout",
     "output_type": "stream",
     "text": [
      "[5, 4, 3, 2, 1, 0]\n"
     ]
    }
   ],
   "source": [
    "bad_arr.reverse()\n",
    "print(bad_arr)"
   ]
  },
  {
   "cell_type": "code",
   "execution_count": 76,
   "id": "3a673718-4584-4652-9329-73557a5755b6",
   "metadata": {},
   "outputs": [
    {
     "name": "stdout",
     "output_type": "stream",
     "text": [
      "[5, 4, 3, 2, 1]\n"
     ]
    }
   ],
   "source": [
    "del bad_arr[5]\n",
    "print(bad_arr)"
   ]
  },
  {
   "cell_type": "code",
   "execution_count": 77,
   "id": "724caa8f-2ee9-45f7-817e-e8a5afcf1a89",
   "metadata": {},
   "outputs": [
    {
     "name": "stdout",
     "output_type": "stream",
     "text": [
      "2\n",
      "1\n",
      "[4, 3, 2, 1]\n"
     ]
    }
   ],
   "source": [
    "print(bad_arr.index(3))\n",
    "print(bad_arr.count(4))\n",
    "bad_arr.remove(5)\n",
    "print(bad_arr)"
   ]
  },
  {
   "cell_type": "code",
   "execution_count": 78,
   "id": "9f481eeb-ca31-43ae-9fa6-ce7cecbe00b6",
   "metadata": {},
   "outputs": [
    {
     "data": {
      "text/plain": [
       "24"
      ]
     },
     "execution_count": 78,
     "metadata": {},
     "output_type": "execute_result"
    }
   ],
   "source": [
    "(12).__add__(12)"
   ]
  },
  {
   "cell_type": "code",
   "execution_count": 89,
   "id": "db2c4cd2-7cb9-4cb2-81d5-78e1043c6807",
   "metadata": {},
   "outputs": [
    {
     "name": "stdout",
     "output_type": "stream",
     "text": [
      "range(0, 11)\n"
     ]
    },
    {
     "data": {
      "text/plain": [
       "[0, 1, 2, 3, 4, 5, 6, 7, 8, 9, 10]"
      ]
     },
     "execution_count": 89,
     "metadata": {},
     "output_type": "execute_result"
    }
   ],
   "source": [
    "range_arr = range(11)\n",
    "print(range_arr)\n",
    "list(range_arr)"
   ]
  },
  {
   "cell_type": "code",
   "execution_count": 96,
   "id": "8ad273df-2bb4-4293-8c3b-ff980ca367e2",
   "metadata": {},
   "outputs": [
    {
     "data": {
      "text/plain": [
       "[0, 2, 4, 6, 8]"
      ]
     },
     "execution_count": 96,
     "metadata": {},
     "output_type": "execute_result"
    }
   ],
   "source": [
    "# The one below lists a range of 0 - 10, skipping by two and printing even numbers. \n",
    "# Start it at one, and you'll get odd numbers. \n",
    "list(range(0, 10, 2))\n",
    "# list(range(1, 10, 2))"
   ]
  },
  {
   "cell_type": "code",
   "execution_count": 99,
   "id": "95a35e6d-02e6-4f5a-aafe-a9608532e89c",
   "metadata": {},
   "outputs": [
    {
     "data": {
      "text/plain": [
       "[10, 9, 8, 7, 6, 5, 4, 3, 2, 1]"
      ]
     },
     "execution_count": 99,
     "metadata": {},
     "output_type": "execute_result"
    }
   ],
   "source": [
    "#Reverse range requires big > small, else it's empty. \n",
    "list(range(10, 0, -1))"
   ]
  },
  {
   "cell_type": "code",
   "execution_count": 100,
   "id": "fb91951b-016b-404b-97b2-3a70933ea28c",
   "metadata": {},
   "outputs": [
    {
     "name": "stdout",
     "output_type": "stream",
     "text": [
      "Hello, Laverne.\n"
     ]
    }
   ],
   "source": [
    "#Some of these methods also work with strings, as they're considered collections. \n",
    "myString = \"Hello, Laverne.\"\n",
    "print(myString)"
   ]
  },
  {
   "cell_type": "code",
   "execution_count": 101,
   "id": "34963d9b-9115-425d-abcd-cd003bf0359b",
   "metadata": {},
   "outputs": [
    {
     "data": {
      "text/plain": [
       "2"
      ]
     },
     "execution_count": 101,
     "metadata": {},
     "output_type": "execute_result"
    }
   ],
   "source": [
    "myString.count(\"l\")\n"
   ]
  },
  {
   "cell_type": "code",
   "execution_count": 104,
   "id": "3bef7858-e529-4df3-8f78-3f77f3280189",
   "metadata": {},
   "outputs": [
    {
     "data": {
      "text/plain": [
       "1"
      ]
     },
     "execution_count": 104,
     "metadata": {},
     "output_type": "execute_result"
    }
   ],
   "source": [
    "myString.index(\"e\")"
   ]
  },
  {
   "cell_type": "code",
   "execution_count": 107,
   "id": "cc73663c-0850-4587-acfd-10241aa60540",
   "metadata": {},
   "outputs": [
    {
     "ename": "AttributeError",
     "evalue": "'str' object has no attribute 'pop'",
     "output_type": "error",
     "traceback": [
      "\u001b[1;31m---------------------------------------------------------------------------\u001b[0m",
      "\u001b[1;31mAttributeError\u001b[0m                            Traceback (most recent call last)",
      "\u001b[1;32m<ipython-input-107-350a63d2db08>\u001b[0m in \u001b[0;36m<module>\u001b[1;34m\u001b[0m\n\u001b[1;32m----> 1\u001b[1;33m \u001b[0mmyString\u001b[0m\u001b[1;33m.\u001b[0m\u001b[0mpop\u001b[0m\u001b[1;33m(\u001b[0m\u001b[1;33m)\u001b[0m\u001b[1;33m\u001b[0m\u001b[1;33m\u001b[0m\u001b[0m\n\u001b[0m",
      "\u001b[1;31mAttributeError\u001b[0m: 'str' object has no attribute 'pop'"
     ]
    }
   ],
   "source": []
  },
  {
   "cell_type": "code",
   "execution_count": null,
   "id": "77304608-a90b-4037-80a7-5f16d9b0148b",
   "metadata": {},
   "outputs": [],
   "source": []
  }
 ],
 "metadata": {
  "kernelspec": {
   "display_name": "Python 3",
   "language": "python",
   "name": "python3"
  },
  "language_info": {
   "codemirror_mode": {
    "name": "ipython",
    "version": 3
   },
   "file_extension": ".py",
   "mimetype": "text/x-python",
   "name": "python",
   "nbconvert_exporter": "python",
   "pygments_lexer": "ipython3",
   "version": "3.9.5"
  }
 },
 "nbformat": 4,
 "nbformat_minor": 5
}
