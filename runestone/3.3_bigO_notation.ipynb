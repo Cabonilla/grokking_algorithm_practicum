{
 "cells": [
  {
   "cell_type": "code",
   "execution_count": 23,
   "id": "817d669e-b346-4d8b-9034-3ddbe30c9101",
   "metadata": {},
   "outputs": [],
   "source": [
    "import time\n",
    "from random import randrange"
   ]
  },
  {
   "cell_type": "code",
   "execution_count": 2,
   "id": "a477fe23-cfaf-467c-83f6-69b966842609",
   "metadata": {},
   "outputs": [],
   "source": [
    "arr = [9,4,5,2,6]"
   ]
  },
  {
   "cell_type": "code",
   "execution_count": 3,
   "id": "394a75f8-7dd4-4b50-aa96-3c6b84c8b9fa",
   "metadata": {},
   "outputs": [],
   "source": [
    "#This algo is n^2, terrible. \n",
    "def findSmallest(arr):\n",
    "    totalmin = arr[0]\n",
    "    #Here's the first n.\n",
    "    for i in arr:\n",
    "        isSmallest = True\n",
    "        #Here's the second one, very convoluted. \n",
    "        for j in arr:\n",
    "            if i > j:\n",
    "                isSmallest = False\n",
    "        if isSmallest:\n",
    "            totalmin = i\n",
    "    return totalmin"
   ]
  },
  {
   "cell_type": "code",
   "execution_count": 4,
   "id": "36f126fe-a2ed-4ff9-845b-2f807e1fb3d5",
   "metadata": {},
   "outputs": [
    {
     "name": "stdout",
     "output_type": "stream",
     "text": [
      "2\n"
     ]
    }
   ],
   "source": [
    "print(findSmallest(arr))"
   ]
  },
  {
   "cell_type": "code",
   "execution_count": 25,
   "id": "0c8624b3-8504-45d1-a70b-cb96b70e9bf9",
   "metadata": {},
   "outputs": [
    {
     "name": "stdout",
     "output_type": "stream",
     "text": [
      "2\n",
      "size: 1000 time: 0.000000\n",
      "2\n",
      "size: 2000 time: 0.000000\n",
      "2\n",
      "size: 3000 time: 0.000000\n",
      "2\n",
      "size: 4000 time: 0.000999\n",
      "2\n",
      "size: 5000 time: 0.000000\n",
      "2\n",
      "size: 6000 time: 0.001003\n",
      "2\n",
      "size: 7000 time: 0.000000\n",
      "2\n",
      "size: 8000 time: 0.000000\n",
      "2\n",
      "size: 9000 time: 0.000000\n",
      "2\n",
      "size: 10000 time: 0.000000\n"
     ]
    }
   ],
   "source": [
    "for listSize in range(1000,10001,1000):\n",
    "    alist = [randrange(100000) for x in range(listSize)]\n",
    "    start = time.time()\n",
    "    print(findSmallest(arr))\n",
    "    end = time.time()\n",
    "    print(\"size: %d time: %f\" % (listSize, end-start))"
   ]
  },
  {
   "cell_type": "code",
   "execution_count": 9,
   "id": "53a94f8e-7f6b-4239-ad56-eb1388bd76c0",
   "metadata": {},
   "outputs": [],
   "source": [
    "#This one is much better, linear (n) time. \n",
    "def findSmallest2(arr):\n",
    "    localmin = arr[0]\n",
    "    #We're only iterating once.\n",
    "    for i in arr:\n",
    "        if i < localmin:\n",
    "            localmin = i\n",
    "    return localmin"
   ]
  },
  {
   "cell_type": "code",
   "execution_count": 10,
   "id": "5ace38d1-f121-4cdf-98c8-53bfd8c2cad3",
   "metadata": {},
   "outputs": [
    {
     "name": "stdout",
     "output_type": "stream",
     "text": [
      "2\n"
     ]
    }
   ],
   "source": [
    "print(findSmallest2(arr))"
   ]
  },
  {
   "cell_type": "code",
   "execution_count": null,
   "id": "fa57e79b-256e-47eb-ba2a-6241537c56be",
   "metadata": {},
   "outputs": [],
   "source": []
  }
 ],
 "metadata": {
  "kernelspec": {
   "display_name": "Python 3",
   "language": "python",
   "name": "python3"
  },
  "language_info": {
   "codemirror_mode": {
    "name": "ipython",
    "version": 3
   },
   "file_extension": ".py",
   "mimetype": "text/x-python",
   "name": "python",
   "nbconvert_exporter": "python",
   "pygments_lexer": "ipython3",
   "version": "3.9.5"
  }
 },
 "nbformat": 4,
 "nbformat_minor": 5
}
