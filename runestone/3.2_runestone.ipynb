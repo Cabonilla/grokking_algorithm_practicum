{
 "cells": [
  {
   "cell_type": "code",
   "execution_count": 56,
   "id": "a113c51c-7d28-434e-91ce-5e15ee5ffd50",
   "metadata": {},
   "outputs": [
    {
     "name": "stdout",
     "output_type": "stream",
     "text": [
      "(55, 0.0)\n"
     ]
    }
   ],
   "source": [
    "import time\n",
    "\n",
    "def sumOfN(n):    \n",
    "    start = time.time()\n",
    "    \n",
    "    theSum = 0\n",
    "    for i in range(1, n+1):\n",
    "        theSum+=i\n",
    "\n",
    "    end = time.time()\n",
    "    return theSum, end-start\n",
    "\n",
    "print(sumOfN(10))"
   ]
  },
  {
   "cell_type": "code",
   "execution_count": null,
   "id": "e8e69e60-0e83-4d9a-8c5e-61354ec92a7f",
   "metadata": {},
   "outputs": [],
   "source": []
  }
 ],
 "metadata": {
  "kernelspec": {
   "display_name": "Python 3",
   "language": "python",
   "name": "python3"
  },
  "language_info": {
   "codemirror_mode": {
    "name": "ipython",
    "version": 3
   },
   "file_extension": ".py",
   "mimetype": "text/x-python",
   "name": "python",
   "nbconvert_exporter": "python",
   "pygments_lexer": "ipython3",
   "version": "3.9.5"
  }
 },
 "nbformat": 4,
 "nbformat_minor": 5
}
