{
 "cells": [
  {
   "cell_type": "code",
   "execution_count": 3,
   "id": "a9efb1ab-a06e-4cea-9155-b80e8a01ea1d",
   "metadata": {},
   "outputs": [],
   "source": [
    "graph = {}\n",
    "graph[\"start\"] = {}\n",
    "graph[\"start\"][\"a\"] = 6\n",
    "graph[\"start\"][\"b\"] = 2"
   ]
  },
  {
   "cell_type": "code",
   "execution_count": 6,
   "id": "dd5ee395-6e14-4c01-bc13-71bae0cc7ecb",
   "metadata": {},
   "outputs": [
    {
     "name": "stdout",
     "output_type": "stream",
     "text": [
      "dict_keys(['a', 'b'])\n",
      "6\n",
      "2\n"
     ]
    }
   ],
   "source": [
    "print(graph[\"start\"].keys())\n",
    "print(graph[\"start\"][\"a\"])\n",
    "print(graph[\"start\"][\"b\"])"
   ]
  },
  {
   "cell_type": "code",
   "execution_count": 11,
   "id": "28b5b186-c38e-4186-9760-ae85ed2c8eed",
   "metadata": {},
   "outputs": [],
   "source": [
    "graph[\"a\"] = {}\n",
    "graph[\"a\"][\"fin\"] = 1\n",
    "\n",
    "graph[\"b\"] = {}\n",
    "graph[\"b\"][\"a\"] = 3\n",
    "graph[\"b\"][\"fin\"] = 5\n",
    "\n",
    "graph[\"fin\"] = {}"
   ]
  },
  {
   "cell_type": "code",
   "execution_count": 12,
   "id": "37f69e61-6afb-497e-a1a4-4be55e14a67b",
   "metadata": {},
   "outputs": [],
   "source": [
    "infinity = float(\"inf\")\n",
    "costs = {}\n",
    "costs[\"a\"] = 6\n",
    "costs[\"b\"] = 2\n",
    "costs[\"fin\"] = infinity"
   ]
  },
  {
   "cell_type": "code",
   "execution_count": 13,
   "id": "17f8d417-45bc-46cb-9d94-02b0e03738aa",
   "metadata": {},
   "outputs": [],
   "source": [
    "parents = {}\n",
    "parents[\"a\"] = \"start\"\n",
    "parents[\"b\"] = \"start\"\n",
    "parents[\"fin\"] = None"
   ]
  },
  {
   "cell_type": "code",
   "execution_count": 37,
   "id": "7614cef8-bd51-4dfc-82a0-779b942a591f",
   "metadata": {},
   "outputs": [],
   "source": [
    "processed = []"
   ]
  },
  {
   "cell_type": "code",
   "execution_count": 27,
   "id": "2b36dbc4-30ca-40e6-a79e-83574114850b",
   "metadata": {},
   "outputs": [],
   "source": [
    "def find_lowest_cost_node(costs):\n",
    "    lowest_cost = float(\"inf\")\n",
    "    lowest_cost_node = None\n",
    "    for node in costs:\n",
    "        cost = costs[node]\n",
    "        if cost < lowest_cost and node not in processed:\n",
    "            lowest_cost = cost\n",
    "            lowest_cost_node = node\n",
    "    return lowest_cost_node"
   ]
  },
  {
   "cell_type": "code",
   "execution_count": 36,
   "id": "fbab9cff-4058-4d91-b8b4-67ee0f1923e1",
   "metadata": {},
   "outputs": [],
   "source": [
    "def find_fastest_path():\n",
    "    node = find_lowest_cost_node(costs)\n",
    "    while node is not None:\n",
    "        cost = costs[node]\n",
    "        neighbors = graph[node]\n",
    "        for n in neighbors.keys():\n",
    "            new_cost = cost + neighbors[n]\n",
    "            if costs[n] > new_cost:\n",
    "                costs[n] = new_cost\n",
    "                parents[n] = node\n",
    "        processed.append(node)\n",
    "        node = find_lowest_cost_node(costs)"
   ]
  },
  {
   "cell_type": "code",
   "execution_count": 32,
   "id": "cc3dabf8-c0ea-4df5-bc0e-46249ede0c22",
   "metadata": {},
   "outputs": [
    {
     "name": "stdout",
     "output_type": "stream",
     "text": [
      "{'start': {'a': 6, 'b': 2}, 'a': {'fin': 1}, 'b': {'a': 3, 'fin': 5}, 'fin': {}}\n"
     ]
    }
   ],
   "source": [
    "print(graph)"
   ]
  },
  {
   "cell_type": "code",
   "execution_count": 33,
   "id": "3fcfebcc-7663-4837-8830-4afc5463c207",
   "metadata": {},
   "outputs": [
    {
     "name": "stdout",
     "output_type": "stream",
     "text": [
      "{'b': [], 'a': [], 'fin': []}\n"
     ]
    }
   ],
   "source": [
    "print(processed)"
   ]
  },
  {
   "cell_type": "code",
   "execution_count": 105,
   "id": "4f22a763-ac95-4ee7-96ed-3dc3b94eeb0c",
   "metadata": {},
   "outputs": [],
   "source": [
    "#display_route by Mark Mcdonnell, Integralist -> https://gist.github.com/Integralist/9763bded76e7d826535a3caeafc3bdff#file-7-dijkstra-s-algorithm-py\n",
    "\n",
    "route = []\n",
    "\n",
    "def display_route(node=None):\n",
    "    start_node = 'start'\n",
    "    end_node = 'fin'\n",
    "    \n",
    "    if node == start_node:\n",
    "        route.append(node)\n",
    "        reverse_route = list(reversed(route))\n",
    "        print('Fastest Route: ' + ' -> '.join(reverse_route))\n",
    "    elif node is None:\n",
    "        end_parent = parents[end_node]\n",
    "        route.append(end_node)\n",
    "        display_route(end_parent)\n",
    "    else:\n",
    "        parent = parents[node]\n",
    "        route.append(node)\n",
    "        display_route(parent)\n",
    "    \n",
    "def dijkstras():\n",
    "    find_fastest_path()\n",
    "    display_route()\n",
    "    route.clear()"
   ]
  },
  {
   "cell_type": "code",
   "execution_count": 110,
   "id": "1fe67071-50ae-4d37-a85d-648e019025f7",
   "metadata": {},
   "outputs": [
    {
     "name": "stdout",
     "output_type": "stream",
     "text": [
      "Fastest Route: start -> b -> a -> fin\n"
     ]
    }
   ],
   "source": [
    "dijkstras()"
   ]
  },
  {
   "cell_type": "code",
   "execution_count": 111,
   "id": "63923be3-1d23-4276-9990-feec8829458d",
   "metadata": {},
   "outputs": [
    {
     "name": "stdout",
     "output_type": "stream",
     "text": [
      "[]\n"
     ]
    }
   ],
   "source": [
    "print(route)"
   ]
  },
  {
   "cell_type": "code",
   "execution_count": null,
   "id": "b7167821-c84c-4097-95e3-2d822ce163a5",
   "metadata": {},
   "outputs": [],
   "source": []
  }
 ],
 "metadata": {
  "kernelspec": {
   "display_name": "Python 3",
   "language": "python",
   "name": "python3"
  },
  "language_info": {
   "codemirror_mode": {
    "name": "ipython",
    "version": 3
   },
   "file_extension": ".py",
   "mimetype": "text/x-python",
   "name": "python",
   "nbconvert_exporter": "python",
   "pygments_lexer": "ipython3",
   "version": "3.9.5"
  }
 },
 "nbformat": 4,
 "nbformat_minor": 5
}
