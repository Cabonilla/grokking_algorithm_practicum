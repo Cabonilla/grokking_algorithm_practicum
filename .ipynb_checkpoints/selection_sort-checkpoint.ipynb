{
 "cells": [
  {
   "cell_type": "code",
   "execution_count": 2,
   "id": "8a2f38cb-896b-4533-b6fe-0622086d7501",
   "metadata": {},
   "outputs": [
    {
     "data": {
      "text/plain": [
       "1"
      ]
     },
     "execution_count": 2,
     "metadata": {},
     "output_type": "execute_result"
    }
   ],
   "source": [
    "def findSmallest(arr):\n",
    "    #Initialize repo for smallest number as index.\n",
    "    smallest=arr[0]\n",
    "    smallest_index = 0\n",
    "    for i in range(1, len(arr)):\n",
    "        #Loop through array finding larger < smallest. \n",
    "        if arr[i] < smallest:\n",
    "            #Push smallest number to repo.\n",
    "            smallest = arr[i]\n",
    "            smallest_index = i\n",
    "    return smallest_index\n",
    "\n",
    "asmallarray = [5, 2, 3, 7, 4, 10]\n",
    "\n",
    "#Will display the index of the smallest number in the array.\n",
    "findSmallest(asmallarray)"
   ]
  },
  {
   "cell_type": "code",
   "execution_count": 3,
   "id": "071c914d-8114-401b-abf4-dab0aff5a417",
   "metadata": {},
   "outputs": [
    {
     "name": "stdout",
     "output_type": "stream",
     "text": [
      "[2, 3, 5, 6, 10]\n"
     ]
    }
   ],
   "source": [
    "def selectionSort(arr):\n",
    "    #Initialize repo for new, ordered array (low to high).\n",
    "    newArr = []\n",
    "    for i in range(len(arr)):\n",
    "        #Use the findSmallest function to loop through array and push smallest number.\n",
    "        smallest = findSmallest(arr)\n",
    "        #Push smallest number to repo. \n",
    "        newArr.append(arr.pop(smallest))\n",
    "    #Display new, ordered array. \n",
    "    return newArr\n",
    "\n",
    "anArray = [5, 3, 6, 2, 10]\n",
    "\n",
    "#Will display an ordered array from least to greatest. \n",
    "print(selectionSort(anArray))"
   ]
  },
  {
   "cell_type": "code",
   "execution_count": null,
   "id": "e10c7f1b-eee3-477c-b6de-8262c57388b5",
   "metadata": {},
   "outputs": [],
   "source": []
  }
 ],
 "metadata": {
  "kernelspec": {
   "display_name": "Python 3",
   "language": "python",
   "name": "python3"
  },
  "language_info": {
   "codemirror_mode": {
    "name": "ipython",
    "version": 3
   },
   "file_extension": ".py",
   "mimetype": "text/x-python",
   "name": "python",
   "nbconvert_exporter": "python",
   "pygments_lexer": "ipython3",
   "version": "3.9.5"
  }
 },
 "nbformat": 4,
 "nbformat_minor": 5
}
