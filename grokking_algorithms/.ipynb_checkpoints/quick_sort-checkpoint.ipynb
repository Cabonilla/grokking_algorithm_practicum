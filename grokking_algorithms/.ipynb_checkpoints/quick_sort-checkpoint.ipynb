{
 "cells": [
  {
   "cell_type": "code",
   "execution_count": 1,
   "id": "2dccdf10-84fb-44f9-b535-93a1004e809c",
   "metadata": {},
   "outputs": [],
   "source": [
    "def quicksort(arr):\n",
    "    #Base states states an array with less than two entries can be returned. \n",
    "    if len(arr) < 2:\n",
    "        return arr\n",
    "    else:\n",
    "        #Create a repo for our pivot number,starting at the beginning. \n",
    "        pivot = arr[0]\n",
    "        \n",
    "        #Loop through array and find the lesser number...\n",
    "        less = [i for i in arr[1:] if i <= pivot]\n",
    "        \n",
    "        #Then, loop through the array for the greater number...\n",
    "        greater = [i for i in arr[1:] if i > pivot]\n",
    "        \n",
    "        #Finally, recurse through the array and return the ordered values. \n",
    "        return quicksort(less) + [pivot] + quicksort(greater)\n",
    "    \n",
    "arr = [10, 5, 3, 7, 8, 11, 12, 2]"
   ]
  },
  {
   "cell_type": "code",
   "execution_count": 2,
   "id": "a3a4892e-cf51-4eb6-8ead-10beeeba3532",
   "metadata": {},
   "outputs": [
    {
     "name": "stdout",
     "output_type": "stream",
     "text": [
      "[2, 3, 5, 7, 8, 10, 11, 12]\n"
     ]
    }
   ],
   "source": [
    "print(quicksort(arr))"
   ]
  },
  {
   "cell_type": "code",
   "execution_count": 3,
   "id": "b628524d-7841-47b3-9f5c-b0101eec7203",
   "metadata": {},
   "outputs": [
    {
     "name": "stdout",
     "output_type": "stream",
     "text": [
      "['a', 'b', 'c', 'd', 'y', 'z']\n"
     ]
    }
   ],
   "source": [
    "#Quicksort works with alphabetizing letters, too. \n",
    "letterarr = [\"b\", \"d\", \"a\", \"c\", \"z\", \"y\"]\n",
    "\n",
    "print(quicksort(letterarr))"
   ]
  }
 ],
 "metadata": {
  "kernelspec": {
   "display_name": "Python 3",
   "language": "python",
   "name": "python3"
  },
  "language_info": {
   "codemirror_mode": {
    "name": "ipython",
    "version": 3
   },
   "file_extension": ".py",
   "mimetype": "text/x-python",
   "name": "python",
   "nbconvert_exporter": "python",
   "pygments_lexer": "ipython3",
   "version": "3.9.5"
  }
 },
 "nbformat": 4,
 "nbformat_minor": 5
}
