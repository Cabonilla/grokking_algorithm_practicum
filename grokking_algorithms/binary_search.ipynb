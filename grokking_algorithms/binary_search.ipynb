{
 "cells": [
  {
   "cell_type": "code",
   "execution_count": 7,
   "id": "181e86ed",
   "metadata": {},
   "outputs": [
    {
     "name": "stdout",
     "output_type": "stream",
     "text": [
      "4\n"
     ]
    }
   ],
   "source": [
    "def binary_search(list, item):\n",
    "    #Set up repo for low and high nodes. \n",
    "    low = 0\n",
    "    high = len(list)-1\n",
    "    \n",
    "    while low <= high:\n",
    "        #Set up the middle index, through which we compare low and high. \n",
    "        mid = (low + high)\n",
    "        #The 'guess' is the index matching our search parameter. \n",
    "        guess = list[int(mid)]\n",
    "        if guess == item:\n",
    "            return mid\n",
    "        if guess > item:\n",
    "            #Too high...\n",
    "            high = mid - 1\n",
    "            #...so lower...\n",
    "        else:\n",
    "            #...or else, make it higher. \n",
    "            low = mid + 1\n",
    "    return None\n",
    "    \n",
    "my_list = [1, 3, 5, 7, 9]\n",
    "\n",
    "print(binary_search(my_list, 9))"
   ]
  },
  {
   "cell_type": "code",
   "execution_count": 9,
   "id": "8059ed41-2ceb-49a7-a609-6ad2e2a1239a",
   "metadata": {},
   "outputs": [
    {
     "name": "stdout",
     "output_type": "stream",
     "text": [
      "4\n"
     ]
    }
   ],
   "source": [
    "#Repeat type out. \n",
    "\n",
    "def binary_search(array, target):\n",
    "    low=0\n",
    "    high=len(array) - 1\n",
    "    \n",
    "    while low <= high:\n",
    "        mid=(low+high)\n",
    "        guess=array[int(mid)]\n",
    "        if guess == target:\n",
    "            return mid\n",
    "        if guess >= target:\n",
    "            high = mid - 1\n",
    "        else:\n",
    "            low = mid + 1\n",
    "    return None\n",
    "    \n",
    "my_list = [2, 4, 6, 8, 10]\n",
    "\n",
    "print(binary_search(my_list, 10))"
   ]
  },
  {
   "cell_type": "code",
   "execution_count": 2,
   "id": "dc313a90-7e31-43e4-beda-5f5f944388c7",
   "metadata": {},
   "outputs": [
    {
     "name": "stdout",
     "output_type": "stream",
     "text": [
      "['laverne', 'shirley', 'squiggy']\n"
     ]
    }
   ],
   "source": [
    "my_names = [\"laverne\", \"shirley\", \"squiggy\"]\n",
    "\n",
    "print(my_names)"
   ]
  },
  {
   "cell_type": "code",
   "execution_count": 13,
   "id": "b886559a-9151-4e44-8f75-0d02b756c66b",
   "metadata": {},
   "outputs": [
    {
     "name": "stdout",
     "output_type": "stream",
     "text": [
      "the name shirley is in location 1\n"
     ]
    }
   ],
   "source": [
    "def binary_search_names(arr, loc):\n",
    "    low = 0\n",
    "    high = len(arr) - 1\n",
    "    \n",
    "    while low <= high:\n",
    "        mid = (low+high)\n",
    "        guess = arr[int(mid)]\n",
    "        if guess == loc:\n",
    "            return mid\n",
    "        if guess >= loc:\n",
    "            high = mid - 1\n",
    "        else: \n",
    "            low = mid + 1\n",
    "    return None\n",
    "\n",
    "search_result = \"shirley\"\n",
    "\n",
    "print(\"the name \" + str(search_result)  + \" is in location \" + str(binary_search_names(my_names, search_result)) )"
   ]
  },
  {
   "cell_type": "code",
   "execution_count": null,
   "id": "90f586b6-d97f-439b-9524-9fdc62c8a046",
   "metadata": {},
   "outputs": [],
   "source": []
  }
 ],
 "metadata": {
  "kernelspec": {
   "display_name": "Python 3",
   "language": "python",
   "name": "python3"
  },
  "language_info": {
   "codemirror_mode": {
    "name": "ipython",
    "version": 3
   },
   "file_extension": ".py",
   "mimetype": "text/x-python",
   "name": "python",
   "nbconvert_exporter": "python",
   "pygments_lexer": "ipython3",
   "version": "3.9.5"
  }
 },
 "nbformat": 4,
 "nbformat_minor": 5
}
